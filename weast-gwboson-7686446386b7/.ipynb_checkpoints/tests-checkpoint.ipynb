{
 "cells": [
  {
   "cell_type": "markdown",
   "metadata": {
    "execution": {
     "iopub.execute_input": "2022-10-26T19:29:17.215760Z",
     "iopub.status.busy": "2022-10-26T19:29:17.214615Z",
     "iopub.status.idle": "2022-10-26T19:29:17.227421Z",
     "shell.execute_reply": "2022-10-26T19:29:17.226747Z",
     "shell.execute_reply.started": "2022-10-26T19:29:17.215725Z"
    }
   },
   "source": [
    "# Preamble"
   ]
  },
  {
   "cell_type": "code",
   "execution_count": 1,
   "metadata": {
    "execution": {
     "iopub.execute_input": "2023-09-28T17:31:39.468053Z",
     "iopub.status.busy": "2023-09-28T17:31:39.467557Z",
     "iopub.status.idle": "2023-09-28T17:31:40.174397Z",
     "shell.execute_reply": "2023-09-28T17:31:40.174046Z",
     "shell.execute_reply.started": "2023-09-28T17:31:39.467949Z"
    }
   },
   "outputs": [],
   "source": [
    "import sys\n",
    "import numpy as np\n",
    "from matplotlib import pyplot as plt \n",
    "from scipy.optimize import fsolve\n",
    "import pandas as pd\n",
    "from tqdm import tqdm\n",
    "from scipy.interpolate import interp1d\n",
    "from scipy.integrate import trapz\n",
    "from scipy.integrate import quad"
   ]
  },
  {
   "cell_type": "code",
   "execution_count": 2,
   "metadata": {
    "execution": {
     "iopub.execute_input": "2023-09-28T17:31:06.485150Z",
     "iopub.status.busy": "2023-09-28T17:31:06.484773Z",
     "iopub.status.idle": "2023-09-28T17:31:06.624241Z",
     "shell.execute_reply": "2023-09-28T17:31:06.623662Z",
     "shell.execute_reply.started": "2023-09-28T17:31:06.485117Z"
    }
   },
   "outputs": [
    {
     "ename": "ModuleNotFoundError",
     "evalue": "No module named 'my_units'",
     "output_type": "error",
     "traceback": [
      "\u001b[0;31m---------------------------------------------------------------------------\u001b[0m",
      "\u001b[0;31mModuleNotFoundError\u001b[0m                       Traceback (most recent call last)",
      "\u001b[0;32m<ipython-input-2-b81fdab5fb02>\u001b[0m in \u001b[0;36m<module>\u001b[0;34m\u001b[0m\n\u001b[1;32m      1\u001b[0m \u001b[0;31m#sys.path.insert(0, './utils/')\u001b[0m\u001b[0;34m\u001b[0m\u001b[0;34m\u001b[0m\u001b[0;34m\u001b[0m\u001b[0m\n\u001b[1;32m      2\u001b[0m \u001b[0;34m\u001b[0m\u001b[0m\n\u001b[0;32m----> 3\u001b[0;31m \u001b[0;32mfrom\u001b[0m \u001b[0mmy_units\u001b[0m \u001b[0;32mimport\u001b[0m \u001b[0;34m*\u001b[0m\u001b[0;34m\u001b[0m\u001b[0;34m\u001b[0m\u001b[0m\n\u001b[0m",
      "\u001b[0;31mModuleNotFoundError\u001b[0m: No module named 'my_units'"
     ]
    }
   ],
   "source": [
    "#sys.path.insert(0, './utils/')\n",
    "\n",
    "from my_units import * "
   ]
  },
  {
   "cell_type": "code",
   "execution_count": 2,
   "metadata": {
    "execution": {
     "iopub.execute_input": "2023-09-28T17:31:42.904291Z",
     "iopub.status.busy": "2023-09-28T17:31:42.903791Z",
     "iopub.status.idle": "2023-09-28T17:31:43.047942Z",
     "shell.execute_reply": "2023-09-28T17:31:43.047402Z",
     "shell.execute_reply.started": "2023-09-28T17:31:42.904246Z"
    }
   },
   "outputs": [
    {
     "ename": "ModuleNotFoundError",
     "evalue": "No module named 'my_units'",
     "output_type": "error",
     "traceback": [
      "\u001b[0;31m---------------------------------------------------------------------------\u001b[0m",
      "\u001b[0;31mModuleNotFoundError\u001b[0m                       Traceback (most recent call last)",
      "\u001b[0;32m<ipython-input-2-2f25a954ba59>\u001b[0m in \u001b[0;36m<module>\u001b[0;34m\u001b[0m\n\u001b[1;32m     10\u001b[0m \u001b[0;32mfrom\u001b[0m \u001b[0mscipy\u001b[0m\u001b[0;34m.\u001b[0m\u001b[0mintegrate\u001b[0m \u001b[0;32mimport\u001b[0m \u001b[0mquad\u001b[0m\u001b[0;34m\u001b[0m\u001b[0;34m\u001b[0m\u001b[0m\n\u001b[1;32m     11\u001b[0m \u001b[0;34m\u001b[0m\u001b[0m\n\u001b[0;32m---> 12\u001b[0;31m \u001b[0;32mimport\u001b[0m \u001b[0mmy_units\u001b[0m \u001b[0;32mas\u001b[0m \u001b[0mmyu\u001b[0m\u001b[0;34m\u001b[0m\u001b[0;34m\u001b[0m\u001b[0m\n\u001b[0m",
      "\u001b[0;31mModuleNotFoundError\u001b[0m: No module named 'my_units'"
     ]
    }
   ],
   "source": [
    "import sys\n",
    "import numpy as np\n",
    "from matplotlib import pyplot as plt \n",
    "#from ultralight_boson import UltralightBoson\n",
    "from scipy.optimize import fsolve\n",
    "import pandas as pd\n",
    "from tqdm import tqdm\n",
    "from scipy.interpolate import interp1d\n",
    "from scipy.integrate import trapz\n",
    "from scipy.integrate import quad\n",
    "\n",
    "import my_units as myu"
   ]
  },
  {
   "cell_type": "code",
   "execution_count": 6,
   "metadata": {
    "execution": {
     "iopub.execute_input": "2023-09-28T17:28:04.265663Z",
     "iopub.status.busy": "2023-09-28T17:28:04.265205Z",
     "iopub.status.idle": "2023-09-28T17:28:04.282406Z",
     "shell.execute_reply": "2023-09-28T17:28:04.281127Z",
     "shell.execute_reply.started": "2023-09-28T17:28:04.265623Z"
    }
   },
   "outputs": [
    {
     "ename": "ModuleNotFoundError",
     "evalue": "No module named 'superrad'",
     "output_type": "error",
     "traceback": [
      "\u001b[0;31m---------------------------------------------------------------------------\u001b[0m",
      "\u001b[0;31mModuleNotFoundError\u001b[0m                       Traceback (most recent call last)",
      "\u001b[0;32m<ipython-input-6-fca9eb3fa7a9>\u001b[0m in \u001b[0;36m<module>\u001b[0;34m\u001b[0m\n\u001b[1;32m      2\u001b[0m \u001b[0;31m#from ultralight_boson import UltralightBoson\u001b[0m\u001b[0;34m\u001b[0m\u001b[0;34m\u001b[0m\u001b[0;34m\u001b[0m\u001b[0m\n\u001b[1;32m      3\u001b[0m \u001b[0;34m\u001b[0m\u001b[0m\n\u001b[0;32m----> 4\u001b[0;31m \u001b[0;32mfrom\u001b[0m \u001b[0msuperrad\u001b[0m \u001b[0;32mimport\u001b[0m \u001b[0multralight_boson\u001b[0m \u001b[0;32mas\u001b[0m \u001b[0mub\u001b[0m\u001b[0;34m\u001b[0m\u001b[0;34m\u001b[0m\u001b[0m\n\u001b[0m",
      "\u001b[0;31mModuleNotFoundError\u001b[0m: No module named 'superrad'"
     ]
    }
   ],
   "source": [
    "#import utils.my_units as *\n",
    "#from ultralight_boson import UltralightBoson\n",
    "sys.path.insert(0, '../')\n",
    "\n",
    "from superrad import ultralight_boson as ub"
   ]
  },
  {
   "cell_type": "code",
   "execution_count": 7,
   "metadata": {
    "execution": {
     "iopub.execute_input": "2023-09-28T17:30:06.104504Z",
     "iopub.status.busy": "2023-09-28T17:30:06.103003Z",
     "iopub.status.idle": "2023-09-28T17:30:06.116872Z",
     "shell.execute_reply": "2023-09-28T17:30:06.116003Z",
     "shell.execute_reply.started": "2023-09-28T17:30:06.104407Z"
    }
   },
   "outputs": [
    {
     "name": "stdout",
     "output_type": "stream",
     "text": [
      "['./utils/', './utils/', './utils', './utils', '/Users/crimondino/Documents/GitHub/superradianceCW', '/Users/crimondino/opt/anaconda3/lib/python38.zip', '/Users/crimondino/opt/anaconda3/lib/python3.8', '/Users/crimondino/opt/anaconda3/lib/python3.8/lib-dynload', '', '/Users/crimondino/.local/lib/python3.8/site-packages', '/Users/crimondino/Documents/GitHub/hmvec', '/Users/crimondino/opt/anaconda3/lib/python3.8/site-packages', '/Users/crimondino/opt/anaconda3/lib/python3.8/site-packages/aeosa', '/Users/crimondino/opt/anaconda3/lib/python3.8/site-packages/IPython/extensions', '/Users/crimondino/.ipython']\n"
     ]
    }
   ],
   "source": [
    "print(sys.path)"
   ]
  },
  {
   "cell_type": "code",
   "execution_count": 2,
   "metadata": {
    "execution": {
     "iopub.execute_input": "2023-09-12T14:01:35.248934Z",
     "iopub.status.busy": "2023-09-12T14:01:35.248829Z",
     "iopub.status.idle": "2023-09-12T14:01:35.256234Z",
     "shell.execute_reply": "2023-09-12T14:01:35.255884Z",
     "shell.execute_reply.started": "2023-09-12T14:01:35.248922Z"
    }
   },
   "outputs": [],
   "source": [
    "import matplotlib.pyplot as plt\n",
    "import matplotlib as mpl\n",
    "plt.rcdefaults()\n",
    "from matplotlib import font_manager\n",
    "from matplotlib import rcParams\n",
    "from matplotlib import rc\n",
    "from matplotlib import colors\n",
    "rcParams['mathtext.rm'] = 'Times New Roman' \n",
    "rcParams['text.usetex'] = True\n",
    "rcParams['font.family'] = 'times' #'sans-serif'\n",
    "font_manager.findfont('serif', rebuild_if_missing=True)\n",
    "fontsize = 14\n",
    "rcParams.update({'font.size':fontsize})"
   ]
  }
 ],
 "metadata": {
  "kernelspec": {
   "display_name": "Python 3",
   "language": "python",
   "name": "python3"
  },
  "language_info": {
   "codemirror_mode": {
    "name": "ipython",
    "version": 3
   },
   "file_extension": ".py",
   "mimetype": "text/x-python",
   "name": "python",
   "nbconvert_exporter": "python",
   "pygments_lexer": "ipython3",
   "version": "3.8.5"
  }
 },
 "nbformat": 4,
 "nbformat_minor": 4
}
