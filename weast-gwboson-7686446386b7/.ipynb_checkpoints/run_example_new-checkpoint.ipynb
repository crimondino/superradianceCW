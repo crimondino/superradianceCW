{
 "cells": [
  {
   "cell_type": "markdown",
   "metadata": {
    "execution": {
     "iopub.execute_input": "2022-10-26T19:29:17.215760Z",
     "iopub.status.busy": "2022-10-26T19:29:17.214615Z",
     "iopub.status.idle": "2022-10-26T19:29:17.227421Z",
     "shell.execute_reply": "2022-10-26T19:29:17.226747Z",
     "shell.execute_reply.started": "2022-10-26T19:29:17.215725Z"
    }
   },
   "source": [
    "# Preamble"
   ]
  },
  {
   "cell_type": "code",
   "execution_count": 601,
   "metadata": {
    "execution": {
     "iopub.execute_input": "2022-10-27T14:38:36.255590Z",
     "iopub.status.busy": "2022-10-27T14:38:36.253452Z",
     "iopub.status.idle": "2022-10-27T14:38:36.291314Z",
     "shell.execute_reply": "2022-10-27T14:38:36.290798Z",
     "shell.execute_reply.started": "2022-10-27T14:38:36.255468Z"
    }
   },
   "outputs": [],
   "source": [
    "import sys\n",
    "import numpy as np\n",
    "from matplotlib import pyplot as plt \n",
    "from ultralight_boson import UltralightBoson\n",
    "from scipy.optimize import fsolve\n",
    "import pandas as pd\n",
    "from tqdm import tqdm\n",
    "\n",
    "\n",
    "import my_units as myu"
   ]
  },
  {
   "cell_type": "code",
   "execution_count": 179,
   "metadata": {
    "execution": {
     "iopub.execute_input": "2022-10-21T20:56:24.351849Z",
     "iopub.status.busy": "2022-10-21T20:56:24.343573Z",
     "iopub.status.idle": "2022-10-21T20:56:24.410954Z",
     "shell.execute_reply": "2022-10-21T20:56:24.410455Z",
     "shell.execute_reply.started": "2022-10-21T20:56:24.351763Z"
    }
   },
   "outputs": [],
   "source": [
    "import matplotlib.pyplot as plt\n",
    "import matplotlib as mpl\n",
    "plt.rcdefaults()\n",
    "from matplotlib import font_manager\n",
    "from matplotlib import rcParams\n",
    "from matplotlib import rc\n",
    "from matplotlib import colors\n",
    "rcParams['mathtext.rm'] = 'Times New Roman' \n",
    "rcParams['text.usetex'] = True\n",
    "rcParams['font.family'] = 'times' #'sans-serif'\n",
    "font_manager.findfont('serif', rebuild_if_missing=True)\n",
    "fontsize = 14\n",
    "rcParams.update({'font.size':fontsize})"
   ]
  },
  {
   "cell_type": "markdown",
   "metadata": {},
   "source": [
    "# Define analytic functions"
   ]
  },
  {
   "cell_type": "code",
   "execution_count": null,
   "metadata": {},
   "outputs": [],
   "source": [
    "def delta_as_fn(a_star, alpha):\n",
    "    return a_star - 4*alpha/(1+4*alpha**2)\n",
    "\n",
    "def tau_GW_fn(alpha, mu, delta_as):\n",
    "    return 1/(60*alpha**10*mu*delta_as)\n",
    "\n",
    "def fdot_max_fn(alpha, mu, delta_as):\n",
    "    return (75/4/np.pi*alpha**13*mu**2*(delta_as)**2)"
   ]
  },
  {
   "cell_type": "code",
   "execution_count": 292,
   "metadata": {
    "execution": {
     "iopub.execute_input": "2022-10-26T15:38:57.981664Z",
     "iopub.status.busy": "2022-10-26T15:38:57.981232Z",
     "iopub.status.idle": "2022-10-26T15:38:57.987854Z",
     "shell.execute_reply": "2022-10-26T15:38:57.986842Z",
     "shell.execute_reply.started": "2022-10-26T15:38:57.981626Z"
    }
   },
   "outputs": [],
   "source": [
    "### Analytic formulas\n",
    "def fdot_fn(alpha, Mc, Mbh):\n",
    "    return (75/4/np.pi*alpha**13*(Mc*myu.MSolar)**2/myu.GN**2/(Mbh*myu.MSolar)**4)*myu.Second**2"
   ]
  },
  {
   "cell_type": "code",
   "execution_count": 398,
   "metadata": {
    "execution": {
     "iopub.execute_input": "2022-10-26T19:49:14.247260Z",
     "iopub.status.busy": "2022-10-26T19:49:14.236938Z",
     "iopub.status.idle": "2022-10-26T19:49:14.262824Z",
     "shell.execute_reply": "2022-10-26T19:49:14.261233Z",
     "shell.execute_reply.started": "2022-10-26T19:49:14.245886Z"
    }
   },
   "outputs": [],
   "source": [
    "### Approximate value of the min and max alpha (here Delta a_star is taken to be = a_star, which is okay for small alpha)\n",
    "\n",
    "def alpha_min(mu, a_star, f_dot_obs):\n",
    "    return (4*np.pi/75* f_dot_obs / (mu**2*a_star**2))**(1/13) \n",
    "\n",
    "def alpha_max(mu, a_star, tau_cut):\n",
    "    return 1/(tau_cut*60*mu*a_star)**(1/10)"
   ]
  },
  {
   "cell_type": "code",
   "execution_count": 605,
   "metadata": {
    "execution": {
     "iopub.execute_input": "2022-10-27T14:41:00.283037Z",
     "iopub.status.busy": "2022-10-27T14:41:00.281218Z",
     "iopub.status.idle": "2022-10-27T14:41:00.297752Z",
     "shell.execute_reply": "2022-10-27T14:41:00.296426Z",
     "shell.execute_reply.started": "2022-10-27T14:41:00.282935Z"
    }
   },
   "outputs": [],
   "source": [
    "def EM_lum(eps, alpha, Mc, MBH):\n",
    "    return eps**2*(0.13*alpha-0.188*alpha**2)*Mc/(myu.GN*MBH)"
   ]
  },
  {
   "cell_type": "markdown",
   "metadata": {},
   "source": [
    "# Import pulsar data and compute the GW strain"
   ]
  },
  {
   "cell_type": "code",
   "execution_count": 612,
   "metadata": {
    "execution": {
     "iopub.execute_input": "2022-10-27T14:50:15.545578Z",
     "iopub.status.busy": "2022-10-27T14:50:15.544696Z",
     "iopub.status.idle": "2022-10-27T14:50:15.573354Z",
     "shell.execute_reply": "2022-10-27T14:50:15.572802Z",
     "shell.execute_reply.started": "2022-10-27T14:50:15.545493Z"
    }
   },
   "outputs": [
    {
     "data": {
      "text/plain": [
       "Index(['NAME', 'RAJ', 'DECJ', 'PMRA', 'PMDEC', 'P0', 'P1', 'F0', 'F1', 'F2',\n",
       "       'DIST', 'DIST_DM', 'R_LUM', 'R_LUM14', 'AGE'],\n",
       "      dtype='object')"
      ]
     },
     "execution_count": 612,
     "metadata": {},
     "output_type": "execute_result"
    }
   ],
   "source": [
    "df_pulsar = pd.read_csv('pulsar_data/pulsar_table.csv', index_col=0)\n",
    "df_pulsar.columns"
   ]
  },
  {
   "cell_type": "code",
   "execution_count": 613,
   "metadata": {
    "execution": {
     "iopub.execute_input": "2022-10-27T14:50:24.579263Z",
     "iopub.status.busy": "2022-10-27T14:50:24.578893Z",
     "iopub.status.idle": "2022-10-27T14:50:24.623979Z",
     "shell.execute_reply": "2022-10-27T14:50:24.623139Z",
     "shell.execute_reply.started": "2022-10-27T14:50:24.579227Z"
    }
   },
   "outputs": [],
   "source": [
    "alpha_min_list, alpha_max_list = np.zeros(len(df_pulsar)), np.zeros(len(df_pulsar));\n",
    "abh0 = 0.7 ### Initial BH spin\n",
    "tau_cutoff = 1000*myu.Year ## Cutoff for the lifetime of the SR cloud\n",
    "\n",
    "for i in range(len(df_pulsar)):\n",
    "    [f_obs, fdot_obs, dist] = df_pulsar.iloc[i][['F0', 'F1', 'DIST']].to_numpy()\n",
    "    mu = 2*np.pi*f_obs*myu.Hz ## Fix the dark photon mass to the pulsar frequency\n",
    "\n",
    "    alpha_min_list[i], alpha_max_list[i] = alpha_min(mu, abh0, fdot_obs*myu.Hz/myu.Second), alpha_max(mu, abh0, tau_cutoff)"
   ]
  },
  {
   "cell_type": "code",
   "execution_count": 616,
   "metadata": {
    "execution": {
     "iopub.execute_input": "2022-10-27T14:50:36.554969Z",
     "iopub.status.busy": "2022-10-27T14:50:36.554577Z",
     "iopub.status.idle": "2022-10-27T14:50:36.568566Z",
     "shell.execute_reply": "2022-10-27T14:50:36.567191Z",
     "shell.execute_reply.started": "2022-10-27T14:50:36.554928Z"
    }
   },
   "outputs": [],
   "source": [
    "df_res = pd.DataFrame(columns = ['f_obs', 'fdot_obs', 'dist', 'mu', 'alpha', 'Mbh', 'fdot_ratio', 'tauGW', 'strain', 'powGW', 'EM_lum_eps6'],\n",
    "                      index = np.linspace(0, len(df_pulsar)*alpha_points-1, len(df_pulsar)*alpha_points));\n",
    "res_array = np.zeros(df_res.shape)"
   ]
  },
  {
   "cell_type": "code",
   "execution_count": 579,
   "metadata": {
    "collapsed": true,
    "execution": {
     "iopub.execute_input": "2022-10-27T14:20:08.080944Z",
     "iopub.status.busy": "2022-10-27T14:20:08.080615Z",
     "iopub.status.idle": "2022-10-27T14:23:35.594998Z",
     "shell.execute_reply": "2022-10-27T14:23:35.594265Z",
     "shell.execute_reply.started": "2022-10-27T14:20:08.080911Z"
    },
    "jupyter": {
     "outputs_hidden": true
    }
   },
   "outputs": [
    {
     "name": "stdout",
     "output_type": "stream",
     "text": [
      "0 0.023863994286655928\n",
      "1 0.024532956016001535\n",
      "2 0.02520191774534714\n",
      "3 0.025870879474692746\n",
      "4 0.02653984120403835\n",
      "5 0.027208802933383958\n",
      "6 0.027877764662729565\n",
      "7 0.02854672639207517\n",
      "8 0.029215688121420776\n",
      "9 0.02988464985076638\n",
      "10 0.030553611580111988\n",
      "11 0.031222573309457595\n",
      "12 0.031891535038803195\n",
      "13 0.0325604967681488\n",
      "14 0.03322945849749441\n",
      "15 0.03389842022684002\n",
      "16 0.034567381956185625\n",
      "17 0.03523634368553123\n",
      "18 0.03590530541487683\n",
      "19 0.03657426714422244\n",
      "0 0.019420090240293727\n",
      "1 0.020309157096763248\n",
      "2 0.02119822395323277\n",
      "3 0.02208729080970229\n",
      "4 0.02297635766617181\n",
      "5 0.023865424522641333\n",
      "6 0.02475449137911085\n",
      "7 0.02564355823558037\n",
      "8 0.026532625092049893\n",
      "9 0.027421691948519414\n",
      "10 0.028310758804988935\n",
      "11 0.029199825661458456\n",
      "12 0.030088892517927977\n",
      "13 0.0309779593743975\n",
      "14 0.03186702623086702\n",
      "15 0.03275609308733654\n",
      "16 0.03364515994380606\n",
      "17 0.03453422680027558\n",
      "18 0.035423293656745104\n",
      "19 0.036312360513214625\n"
     ]
    }
   ],
   "source": [
    "alpha_points = 20\n",
    "epsilon = 1e-6\n",
    "\n",
    "for pul_i in tqdm(range(len(df_pulsar))[:2]):\n",
    "    \n",
    "    [f_obs, fdot_obs, dist] = df_pulsar.iloc[pul_i][['F0', 'F1', 'DIST']].to_numpy()\n",
    "    mu = 2*np.pi*f_obs*myu.Hz ## Fix the dark photon mass to the pulsar frequency\n",
    "\n",
    "    res_array[(pul_i)*alpha_points:(pul_i+1)*alpha_points, :4] = [f_obs, fdot_obs, dist, mu/myu.eV]\n",
    "    \n",
    "    alpha_list = np.linspace(1.05*alpha_min_list[pul_i], 1.2*alpha_max_list[pul_i], alpha_points)\n",
    "    Mbh_list = np.zeros(alpha_points)\n",
    "    fdot_ratio = np.zeros(alpha_points)\n",
    "    tauGW_list = np.zeros(alpha_points)\n",
    "    strain_list = np.zeros(alpha_points)\n",
    "    powGW_list = np.zeros(alpha_points)\n",
    "    EMlum_list = np.zeros(alpha_points)\n",
    "\n",
    "    for i, alpha in enumerate(alpha_list):\n",
    "        Mbh0 = alpha/(myu.GN*mu)/myu.MSolar; Mbh_list[i] = Mbh0;\n",
    "\n",
    "        #print(i, alpha)\n",
    "        bc = UltralightBoson(spin=1, model=\"relativistic\") \n",
    "        bc.make_waveform(Mbh0, abh0, alpha, units=\"physical+alpha\")\n",
    "        wf = bc.make_waveform(Mbh0, abh0, alpha, units=\"physical+alpha\")\n",
    "\n",
    "        f_gw = wf.freq_gw(0)\n",
    "        fdot_gw = wf.freqdot_gw(0)\n",
    "        tauGW = wf.gw_time()\n",
    "\n",
    "        # Function to find the time when f_dot is equal to the observed value \n",
    "        func = lambda log_t : wf.freqdot_gw(10**log_t)/(2*fdot_obs) - 1\n",
    "        if ( (fdot_gw > 2*fdot_obs) & (tauGW*myu.Second/tau_cutoff > 1) ):\n",
    "            t_sol = 10**fsolve(func, np.log10(tauGW))[0]\n",
    "            strain_list[i] = np.sqrt(4/10)*wf.strain_char(t_sol, dObs=dist*0.001)\n",
    "            powGW_list[i] = wf.power_gw(t_sol)\n",
    "            EMlum_list[i] = EM_lum(epsilon, alpha, wf.mass_cloud(t_sol), Mbh0)/(myu.erg/myu.Second)\n",
    "\n",
    "        fdot_ratio[i] = fdot_gw/(2*fdot_obs)\n",
    "        tauGW_list[i] = tauGW    \n",
    "    \n",
    "    res_array[(pul_i)*alpha_points:(pul_i+1)*alpha_points, 4] = alpha_list\n",
    "    res_array[(pul_i)*alpha_points:(pul_i+1)*alpha_points, 5] = Mbh_list\n",
    "    res_array[(pul_i)*alpha_points:(pul_i+1)*alpha_points, 6] = fdot_ratio\n",
    "    res_array[(pul_i)*alpha_points:(pul_i+1)*alpha_points, 7] = tauGW_list*myu.Second//myu.Year\n",
    "    res_array[(pul_i)*alpha_points:(pul_i+1)*alpha_points, 8] = strain_list\n",
    "    res_array[(pul_i)*alpha_points:(pul_i+1)*alpha_points, 9] = powGW_list\n",
    "    res_array[(pul_i)*alpha_points:(pul_i+1)*alpha_points, 10] = EMlum_list"
   ]
  },
  {
   "cell_type": "code",
   "execution_count": null,
   "metadata": {},
   "outputs": [],
   "source": [
    "df_res[['f_obs', 'fdot_obs', 'dist', 'mu', 'alpha', 'Mbh', 'fdot_ratio', 'tauGW', 'strain', 'powGW', 'EM_lum_eps6']] = res_array\n",
    "### Save the result\n",
    "df_res.to_csv('pulsar_data/pulsar_res.csv')"
   ]
  },
  {
   "cell_type": "code",
   "execution_count": 609,
   "metadata": {
    "execution": {
     "iopub.execute_input": "2022-10-27T14:49:25.583355Z",
     "iopub.status.busy": "2022-10-27T14:49:25.582701Z",
     "iopub.status.idle": "2022-10-27T14:49:25.605445Z",
     "shell.execute_reply": "2022-10-27T14:49:25.604362Z",
     "shell.execute_reply.started": "2022-10-27T14:49:25.583289Z"
    }
   },
   "outputs": [],
   "source": [
    "### Save the result\n",
    "df_res.to_csv('pulsar_data/pulsar_res.csv')"
   ]
  },
  {
   "cell_type": "code",
   "execution_count": 604,
   "metadata": {
    "execution": {
     "iopub.execute_input": "2022-10-27T14:39:51.498819Z",
     "iopub.status.busy": "2022-10-27T14:39:51.498180Z",
     "iopub.status.idle": "2022-10-27T14:39:51.631754Z",
     "shell.execute_reply": "2022-10-27T14:39:51.631391Z",
     "shell.execute_reply.started": "2022-10-27T14:39:51.498750Z"
    }
   },
   "outputs": [
    {
     "data": {
      "image/png": "[encoded data removed]",
      "text/plain": [
       "<Figure size 700x500 with 1 Axes>"
      ]
     },
     "metadata": {},
     "output_type": "display_data"
    }
   ],
   "source": [
    "ith_pul = 1 ### Accesing the i_th pulsar\n",
    "\n",
    "fig, ax = plt.subplots(nrows=1, ncols=1, figsize=(7,5))\n",
    "colorlist = ['darkslateblue', 'firebrick', 'green', 'orange']\n",
    "liestyle_list = ['-.', 'solid']\n",
    "\n",
    "for pul_i in range(len(df_pulsar))[:2]:\n",
    "\n",
    "    ax.plot(df_res[(pul_i)*alpha_points:(pul_i+1)*alpha_points-1]['Mbh'].to_numpy(), df_res[(pul_i)*alpha_points:(pul_i+1)*alpha_points-1]['strain'].to_numpy(), '-');\n",
    "\n",
    "ax.set_xlim(3, 7.5); ax.set_ylim(0.05*10**-24, (1.6*10**-24));\n",
    "ax.set_title(r'GW strain', pad=10);\n",
    "ax.set_xlabel(r'$M\\ [M_\\odot]$')\n",
    "ax.set_ylabel(r'$h$');\n",
    "\n",
    "#ax.set_xscale('log'); \n",
    "#ax.set_yscale('log');"
   ]
  },
  {
   "cell_type": "code",
   "execution_count": 424,
   "metadata": {
    "execution": {
     "iopub.execute_input": "2022-10-26T20:02:37.013310Z",
     "iopub.status.busy": "2022-10-26T20:02:37.012891Z",
     "iopub.status.idle": "2022-10-26T20:02:37.206537Z",
     "shell.execute_reply": "2022-10-26T20:02:37.206174Z",
     "shell.execute_reply.started": "2022-10-26T20:02:37.013274Z"
    }
   },
   "outputs": [
    {
     "data": {
      "image/png": "[encoded data removed]",
      "text/plain": [
       "<Figure size 700x500 with 1 Axes>"
      ]
     },
     "metadata": {},
     "output_type": "display_data"
    }
   ],
   "source": [
    "fig, ax = plt.subplots(nrows=1, ncols=1, figsize=(7,5))\n",
    "colorlist = ['darkslateblue', 'firebrick', 'green', 'orange']\n",
    "liestyle_list = ['-.', 'solid']\n",
    "\n",
    "ax.plot(Mbh_list, fdot_ratio, '.');\n",
    "#ax.set_xscale('log'); \n",
    "ax.set_yscale('log');"
   ]
  },
  {
   "cell_type": "code",
   "execution_count": 334,
   "metadata": {
    "execution": {
     "iopub.execute_input": "2022-10-26T17:49:41.229768Z",
     "iopub.status.busy": "2022-10-26T17:49:41.229231Z",
     "iopub.status.idle": "2022-10-26T17:49:41.242224Z",
     "shell.execute_reply": "2022-10-26T17:49:41.240808Z",
     "shell.execute_reply.started": "2022-10-26T17:49:41.229685Z"
    }
   },
   "outputs": [
    {
     "data": {
      "text/plain": [
       "array([nan, nan, nan, nan, nan, nan, nan, nan, nan, nan])"
      ]
     },
     "execution_count": 334,
     "metadata": {},
     "output_type": "execute_result"
    }
   ],
   "source": [
    "strain_list[0]/(alpha_list/alpha_list[0])**(3/2)"
   ]
  },
  {
   "cell_type": "code",
   "execution_count": 378,
   "metadata": {
    "execution": {
     "iopub.execute_input": "2022-10-26T19:09:59.061645Z",
     "iopub.status.busy": "2022-10-26T19:09:59.061022Z",
     "iopub.status.idle": "2022-10-26T19:09:59.466763Z",
     "shell.execute_reply": "2022-10-26T19:09:59.466389Z",
     "shell.execute_reply.started": "2022-10-26T19:09:59.061570Z"
    }
   },
   "outputs": [
    {
     "data": {
      "image/png": "[encoded data removed]",
      "text/plain": [
       "<Figure size 700x500 with 1 Axes>"
      ]
     },
     "metadata": {},
     "output_type": "display_data"
    }
   ],
   "source": [
    "fig, ax = plt.subplots(nrows=1, ncols=1, figsize=(7,5))\n",
    "colorlist = ['darkslateblue', 'firebrick', 'green', 'orange']\n",
    "liestyle_list = ['-.', 'solid']\n",
    "\n",
    "\n",
    "\n",
    "ax.plot(Mbh_list, strain_list, '-');\n",
    "ax.plot(Mbh_list, strain_list[1]/(alpha_list/alpha_list[1])**(1/2), '.');\n",
    "ax.set_title(r'GW strain', pad=10);\n",
    "ax.set_xlabel(r'$M\\ [M_\\odot]$')\n",
    "ax.set_ylabel(r'$h$');\n",
    "#ax.set_xscale('log'); \n",
    "#ax.set_yscale('log');"
   ]
  },
  {
   "cell_type": "code",
   "execution_count": 342,
   "metadata": {
    "execution": {
     "iopub.execute_input": "2022-10-26T17:50:32.186565Z",
     "iopub.status.busy": "2022-10-26T17:50:32.186123Z",
     "iopub.status.idle": "2022-10-26T17:50:32.303276Z",
     "shell.execute_reply": "2022-10-26T17:50:32.302764Z",
     "shell.execute_reply.started": "2022-10-26T17:50:32.186525Z"
    }
   },
   "outputs": [
    {
     "data": {
      "image/png": "[encoded data removed]",
      "text/plain": [
       "<Figure size 700x500 with 1 Axes>"
      ]
     },
     "metadata": {},
     "output_type": "display_data"
    }
   ],
   "source": [
    "fig, ax = plt.subplots(nrows=1, ncols=1, figsize=(7,5))\n",
    "colorlist = ['darkslateblue', 'firebrick', 'green', 'orange']\n",
    "liestyle_list = ['-.', 'solid']\n",
    "\n",
    "\n",
    "\n",
    "ax.plot(alpha_list, strain_list, '-');\n",
    "ax.plot(alpha_list, strain_list[1]/(alpha_list/alpha_list[1])**(1/2), '.');\n",
    "ax.set_title(r'GW strain', pad=10);\n",
    "ax.set_xlabel(r'$\\alpha$')\n",
    "ax.set_ylabel(r'$h$');\n",
    "#ax.set_xscale('log'); \n",
    "#ax.set_yscale('log');"
   ]
  },
  {
   "cell_type": "code",
   "execution_count": 294,
   "metadata": {
    "execution": {
     "iopub.execute_input": "2022-10-26T15:40:48.271171Z",
     "iopub.status.busy": "2022-10-26T15:40:48.269463Z",
     "iopub.status.idle": "2022-10-26T15:40:48.292750Z",
     "shell.execute_reply": "2022-10-26T15:40:48.291917Z",
     "shell.execute_reply.started": "2022-10-26T15:40:48.271081Z"
    }
   },
   "outputs": [
    {
     "data": {
      "text/plain": [
       "array([0.00000000e+00, 3.46024209e+41, 3.30141917e+41, 3.15666974e+41,\n",
       "       3.02419753e+41, 2.90249953e+41, 2.79030850e+41, 2.68654848e+41,\n",
       "       2.59029998e+41, 2.50077260e+41])"
      ]
     },
     "execution_count": 294,
     "metadata": {},
     "output_type": "execute_result"
    }
   ],
   "source": [
    "powGW_list*myu.Watt/(myu.erg/myu.Second)"
   ]
  },
  {
   "cell_type": "code",
   "execution_count": 236,
   "metadata": {
    "execution": {
     "iopub.execute_input": "2022-10-24T19:57:40.303721Z",
     "iopub.status.busy": "2022-10-24T19:57:40.303307Z",
     "iopub.status.idle": "2022-10-24T19:57:40.311073Z",
     "shell.execute_reply": "2022-10-24T19:57:40.309569Z",
     "shell.execute_reply.started": "2022-10-24T19:57:40.303684Z"
    }
   },
   "outputs": [
    {
     "data": {
      "text/plain": [
       "array([ 0.63064352,  1.17392453,  2.11868774,  3.71780578,  6.3586095 ,\n",
       "       10.62240864, 17.36549533, 27.8277468 , 43.77623887, 67.69275558])"
      ]
     },
     "execution_count": 236,
     "metadata": {},
     "output_type": "execute_result"
    }
   ],
   "source": [
    "fdot_ratio"
   ]
  },
  {
   "cell_type": "code",
   "execution_count": 295,
   "metadata": {
    "execution": {
     "iopub.execute_input": "2022-10-26T15:43:55.168449Z",
     "iopub.status.busy": "2022-10-26T15:43:55.166675Z",
     "iopub.status.idle": "2022-10-26T15:44:00.378930Z",
     "shell.execute_reply": "2022-10-26T15:44:00.378584Z",
     "shell.execute_reply.started": "2022-10-26T15:43:55.168367Z"
    }
   },
   "outputs": [
    {
     "data": {
      "text/plain": [
       "1.1735885023840232e+35"
      ]
     },
     "execution_count": 295,
     "metadata": {},
     "output_type": "execute_result"
    }
   ],
   "source": [
    "alpha = 0.03\n",
    "mu = 2*np.pi*f_obs*myu.Hz/myu.eV ## Fix the dark photon mass to the pulsar frequency\n",
    "Mbh0 = alpha/(myu.GN*mu*myu.eV)/myu.MSolar\n",
    "abh0 = 0.7\n",
    "\n",
    "bc = UltralightBoson(spin=1, model=\"relativistic\") \n",
    "bc.make_waveform(Mbh0, abh0, alpha, units=\"physical+alpha\")\n",
    "wf = bc.make_waveform(Mbh0, abh0, alpha, units=\"physical+alpha\")\n",
    "tauGW = wf.gw_time()\n",
    "tauGW*myu.Second/myu.Year\n",
    "wf.power_gw(0)"
   ]
  },
  {
   "cell_type": "code",
   "execution_count": 293,
   "metadata": {
    "execution": {
     "iopub.execute_input": "2022-10-26T15:38:59.341037Z",
     "iopub.status.busy": "2022-10-26T15:38:59.340419Z",
     "iopub.status.idle": "2022-10-26T15:38:59.659386Z",
     "shell.execute_reply": "2022-10-26T15:38:59.659042Z",
     "shell.execute_reply.started": "2022-10-26T15:38:59.340972Z"
    }
   },
   "outputs": [
    {
     "data": {
      "image/png": "[encoded data removed]",
      "text/plain": [
       "<Figure size 1400x500 with 2 Axes>"
      ]
     },
     "metadata": {},
     "output_type": "display_data"
    }
   ],
   "source": [
    "fig, ax = plt.subplots(nrows=1, ncols=2, figsize=(14,5))\n",
    "colorlist = ['darkslateblue', 'firebrick', 'green', 'orange']\n",
    "liestyle_list = ['-.', 'solid']\n",
    "\n",
    "t_list = np.linspace(0, 10*tauGW, 100) #np.append(np.array([0]),tauGW*np.logspace(0, 2, num=100)) #tauGW*np.logspace(0, 2, num=100) #np.logspace(0, 10*tauGW, 100)\n",
    "f_list = wf.freq_gw(t_list)\n",
    "fdot_list = wf.freqdot_gw(t_list)\n",
    "fdot_list_approx = fdot_fn(alpha, wf.mass_cloud(t_list), Mbh0)\n",
    "ax[0].plot(t_list/tauGW, fdot_list/f_list[0])\n",
    "#ax[0].plot(t_list/tauGW, fdot_list_approx/f_list)\n",
    "ax[0].plot(t_list/tauGW, np.ones(len(t_list))*fdot_obs/f_obs)\n",
    "\n",
    "#ax.set_xscale('log'); \n",
    "ax[0].set_yscale('log');\n",
    "# Set ticks on both sides of axes on\n",
    "#ax.minorticks_on()\n",
    "#ax.tick_params(axis='both', which='both', bottom=True, top=True, labelbottom=True, labeltop=False, left=True, right=True, labelleft=True, labelright=False)\n",
    "ax[0].set_title(r'Relative frequency drift', pad=10);\n",
    "ax[0].set_xlabel(r'$t/t_{GW}$')\n",
    "ax[0].set_ylabel(r'$\\dot{f} (t)/f (t)$');\n",
    "\n",
    "ax[1].plot(t_list/tauGW, fdot_list)\n",
    "#ax[1].plot(t_list/tauGW, fdot_list_approx)\n",
    "ax[1].plot(t_list/tauGW, np.ones(len(t_list))*2*fdot_obs)\n",
    "ax[1].set_yscale('log');\n",
    "ax[1].set_title(r'Frequency drift', pad=10);\n",
    "ax[1].set_xlabel(r'$t/t_{GW}$')\n",
    "ax[1].set_ylabel(r'$\\dot{f} (t)$');"
   ]
  },
  {
   "cell_type": "code",
   "execution_count": 147,
   "metadata": {
    "execution": {
     "iopub.execute_input": "2022-10-20T20:45:05.820270Z",
     "iopub.status.busy": "2022-10-20T20:45:05.818776Z",
     "iopub.status.idle": "2022-10-20T20:45:06.424660Z",
     "shell.execute_reply": "2022-10-20T20:45:06.424263Z",
     "shell.execute_reply.started": "2022-10-20T20:45:05.820196Z"
    }
   },
   "outputs": [
    {
     "data": {
      "image/png": "[encoded data removed]",
      "text/plain": [
       "<Figure size 1400x500 with 2 Axes>"
      ]
     },
     "metadata": {},
     "output_type": "display_data"
    }
   ],
   "source": [
    "fig, ax = plt.subplots(nrows=1, ncols=2, figsize=(14,5))\n",
    "colorlist = ['darkslateblue', 'firebrick', 'green', 'orange']\n",
    "liestyle_list = ['-.', 'solid']\n",
    "\n",
    "t_list = np.linspace(0, 10*tauGW, 100) #np.append(np.array([0]),tauGW*np.logspace(0, 2, num=100)) #tauGW*np.logspace(0, 2, num=100) #np.logspace(0, 10*tauGW, 100)\n",
    "f_list = wf.freq_gw(t_list)\n",
    "fdot_list = wf.freqdot_gw(t_list)\n",
    "ax[0].plot(t_list/tauGW, fdot_list/f_list)\n",
    "ax[0].plot(t_list/tauGW, np.ones(len(t_list))*fdot_obs/f_obs)\n",
    "\n",
    "#ax.set_xscale('log'); \n",
    "ax[0].set_yscale('log');\n",
    "# Set ticks on both sides of axes on\n",
    "#ax.minorticks_on()\n",
    "#ax.tick_params(axis='both', which='both', bottom=True, top=True, labelbottom=True, labeltop=False, left=True, right=True, labelleft=True, labelright=False)\n",
    "ax[0].set_title(r'Relative frequency drift', pad=10);\n",
    "ax[0].set_xlabel(r'$t/t_{GW}$')\n",
    "ax[0].set_ylabel(r'$\\dot{f} (t)/f (t)$');\n",
    "\n",
    "ax[1].plot(t_list/tauGW, fdot_list)\n",
    "ax[1].plot(t_list/tauGW, np.ones(len(t_list))*fdot_obs)\n",
    "ax[1].set_yscale('log');\n",
    "ax[1].set_title(r'Frequency drift', pad=10);\n",
    "ax[1].set_xlabel(r'$t/t_{GW}$')\n",
    "ax[1].set_ylabel(r'$\\dot{f} (t)$');"
   ]
  },
  {
   "cell_type": "code",
   "execution_count": 146,
   "metadata": {
    "execution": {
     "iopub.execute_input": "2022-10-20T20:44:45.124352Z",
     "iopub.status.busy": "2022-10-20T20:44:45.122898Z",
     "iopub.status.idle": "2022-10-20T20:44:45.260238Z",
     "shell.execute_reply": "2022-10-20T20:44:45.259773Z",
     "shell.execute_reply.started": "2022-10-20T20:44:45.124269Z"
    }
   },
   "outputs": [
    {
     "data": {
      "image/png": "[encoded data removed]",
      "text/plain": [
       "<Figure size 700x500 with 1 Axes>"
      ]
     },
     "metadata": {},
     "output_type": "display_data"
    }
   ],
   "source": [
    "fig, ax = plt.subplots(nrows=1, ncols=1, figsize=(7,5))\n",
    "colorlist = ['darkslateblue', 'firebrick', 'green', 'orange']\n",
    "liestyle_list = ['-.', 'solid']\n",
    "\n",
    "t_list = np.linspace(0, 10*tauGW, 100) #np.append(np.array([0]),tauGW*np.logspace(0, 2, num=100)) #tauGW*np.logspace(0, 2, num=100) #np.logspace(0, 10*tauGW, 100)\n",
    "mass_list = wf.mass_cloud(t_list)\n",
    "ax.plot(t_list/tauGW, mass_list/mass_list[0])\n",
    "\n",
    "#ax.set_xscale('log'); ax.set_yscale('log');\n",
    "# Set ticks on both sides of axes on\n",
    "#ax.minorticks_on()\n",
    "#ax.tick_params(axis='both', which='both', bottom=True, top=True, labelbottom=True, labeltop=False, left=True, right=True, labelleft=True, labelright=False)\n",
    "ax.set_title(r'Cloud mass evolution', pad=10);\n",
    "ax.set_xlabel(r'$t/t_{GW}$')\n",
    "ax.set_ylabel(r'$M_c (t)/M_c (0)$');\n",
    "#ax.axis([1*math.pow(10, 7), math.pow(10, 9), 0.7, 16]);\n",
    "#ax.set_ylim(0.6, 10)\n",
    "#fig.tight_layout()\n",
    "#fig.savefig(FigDir+'Compact_lens_limit_DR2_EDR3.pdf')"
   ]
  },
  {
   "cell_type": "markdown",
   "metadata": {},
   "source": [
    "# Tests"
   ]
  },
  {
   "cell_type": "code",
   "execution_count": 371,
   "metadata": {
    "execution": {
     "iopub.execute_input": "2022-10-26T19:07:10.079583Z",
     "iopub.status.busy": "2022-10-26T19:07:10.078721Z",
     "iopub.status.idle": "2022-10-26T19:08:01.350981Z",
     "shell.execute_reply": "2022-10-26T19:08:01.350472Z",
     "shell.execute_reply.started": "2022-10-26T19:07:10.079512Z"
    }
   },
   "outputs": [
    {
     "name": "stdout",
     "output_type": "stream",
     "text": [
      "0 0.026\n",
      "1 0.02733333333333333\n",
      "2 0.028666666666666667\n",
      "3 0.03\n",
      "4 0.03133333333333333\n",
      "5 0.03266666666666666\n",
      "6 0.034\n",
      "7 0.03533333333333333\n",
      "8 0.03666666666666667\n",
      "9 0.038\n"
     ]
    }
   ],
   "source": [
    "alpha_list = np.linspace(0.026, 0.038, 10) #np.array([0.025, 0.03, 0.035])\n",
    "Mbh_list = np.zeros(len(alpha_list))\n",
    "fdot_ratio = np.zeros(len(alpha_list))\n",
    "tauGW_list = np.zeros(len(alpha_list))\n",
    "strain_list = np.zeros(len(alpha_list))\n",
    "powGW_list = np.zeros(len(alpha_list))\n",
    "\n",
    "\n",
    "for i, alpha in enumerate(alpha_list):\n",
    "    mu = 2*np.pi*f_obs*myu.Hz/myu.eV ## Fix the dark photon mass to the pulsar frequency\n",
    "    Mbh0 = alpha/(myu.GN*mu*myu.eV)/myu.MSolar\n",
    "    abh0 = 0.7\n",
    "\n",
    "    print(i, alpha)\n",
    "    bc = UltralightBoson(spin=1, model=\"relativistic\") \n",
    "    bc.make_waveform(Mbh0, abh0, alpha, units=\"physical+alpha\")\n",
    "    wf = bc.make_waveform(Mbh0, abh0, alpha, units=\"physical+alpha\")\n",
    "\n",
    "    f_gw = wf.freq_gw(0)\n",
    "    fdot_gw = wf.freqdot_gw(0)\n",
    "    tauGW = wf.gw_time()\n",
    "\n",
    "    # Function to find the time when f_dot is equal to the observed value \n",
    "    func = lambda log_t : wf.freqdot_gw(10**log_t)/(2*fdot_obs) - 1\n",
    "    if ( (fdot_gw > 2*fdot_obs) & (tauGW*myu.Second/tau_cutoff > 1) ):\n",
    "        t_sol = 10**fsolve(func, np.log10(tauGW))[0]\n",
    "        strain_list[i] = np.sqrt(4/10)*wf.strain_char(t_sol, dObs=dist*0.001)\n",
    "        powGW_list[i] = wf.power_gw(t_sol)\n",
    "\n",
    "    Mbh_list[i] = Mbh0\n",
    "    fdot_ratio[i] = fdot_gw/(2*fdot_obs)\n",
    "    tauGW_list[i] = tauGW"
   ]
  },
  {
   "cell_type": "code",
   "execution_count": 2,
   "metadata": {
    "execution": {
     "iopub.execute_input": "2022-10-19T17:47:55.029975Z",
     "iopub.status.busy": "2022-10-19T17:47:55.028345Z",
     "iopub.status.idle": "2022-10-19T17:47:55.051365Z",
     "shell.execute_reply": "2022-10-19T17:47:55.049551Z",
     "shell.execute_reply.started": "2022-10-19T17:47:55.029914Z"
    }
   },
   "outputs": [],
   "source": [
    "def plot_freq_shift_example():\n",
    "    \"\"\"Compute the relative frequency shift after boson cloud has lost half of its mass\"\"\"\n",
    "    models = [\"relativistic\", \"non-relativistic\"]\n",
    "    mrk = [\"-\", \":\"]\n",
    "    Mbh0 = 1.0\n",
    "    abh0 = 0.99\n",
    "    mu_range = np.linspace(0.05, 1.1, 1024)\n",
    "    for n,model in enumerate(models):\n",
    "        bc = UltralightBoson(spin=0, model=model) \n",
    "        deltaf_f = np.zeros_like(mu_range) \n",
    "        for i,mu in enumerate(mu_range):\n",
    "            try:\n",
    "                wf = bc.make_waveform(Mbh0, abh0, mu, units=\"natural\")\n",
    "            except ValueError:\n",
    "                break \n",
    "            tauGW = wf.gw_time()\n",
    "            f = wf.freq_gw(np.array([0,tauGW]))\n",
    "            deltaf_f[i] = (f[1]-f[0])/f[0]\n",
    "        plt.semilogy(mu_range, deltaf_f, \"k\"+mrk[n], label=model)\n",
    "    plt.legend(loc=\"best\")\n",
    "    plt.ylabel(r\"$\\Delta f /f$\")\n",
    "    plt.xlabel(r\"$\\mu M$\")\n",
    "    plt.show() "
   ]
  },
  {
   "cell_type": "code",
   "execution_count": 3,
   "metadata": {
    "execution": {
     "iopub.execute_input": "2022-10-19T17:47:57.297420Z",
     "iopub.status.busy": "2022-10-19T17:47:57.297077Z",
     "iopub.status.idle": "2022-10-19T17:48:05.308184Z",
     "shell.execute_reply": "2022-10-19T17:48:05.307825Z",
     "shell.execute_reply.started": "2022-10-19T17:47:57.297386Z"
    }
   },
   "outputs": [
    {
     "data": {
      "image/png": "[encoded data removed]",
      "text/plain": [
       "<Figure size 432x288 with 1 Axes>"
      ]
     },
     "metadata": {
      "needs_background": "light"
     },
     "output_type": "display_data"
    }
   ],
   "source": [
    "plot_freq_shift_example()"
   ]
  },
  {
   "cell_type": "code",
   "execution_count": 53,
   "metadata": {
    "execution": {
     "iopub.execute_input": "2022-10-20T15:16:02.230907Z",
     "iopub.status.busy": "2022-10-20T15:16:02.228201Z",
     "iopub.status.idle": "2022-10-20T15:16:10.286475Z",
     "shell.execute_reply": "2022-10-20T15:16:10.286097Z",
     "shell.execute_reply.started": "2022-10-20T15:16:02.230855Z"
    }
   },
   "outputs": [
    {
     "data": {
      "text/plain": [
       "5.441664111737505e+46"
      ]
     },
     "execution_count": 53,
     "metadata": {},
     "output_type": "execute_result"
    }
   ],
   "source": [
    "Mbh0 = 9.09739e37\n",
    "abh0 = 0.99\n",
    "mu = 0.6\n",
    "\n",
    "bc = UltralightBoson(spin=1, model=\"relativistic\") \n",
    "bc.make_waveform(Mbh0, abh0, mu, units=\"natural+alpha\")\n",
    "wf = bc.make_waveform(Mbh0, abh0, mu, units=\"natural+alpha\")\n",
    "tauGW = wf.gw_time()\n",
    "tauGW"
   ]
  },
  {
   "cell_type": "code",
   "execution_count": 54,
   "metadata": {
    "execution": {
     "iopub.execute_input": "2022-10-20T15:16:23.153352Z",
     "iopub.status.busy": "2022-10-20T15:16:23.152980Z",
     "iopub.status.idle": "2022-10-20T15:16:23.164023Z",
     "shell.execute_reply": "2022-10-20T15:16:23.162925Z",
     "shell.execute_reply.started": "2022-10-20T15:16:23.153319Z"
    }
   },
   "outputs": [
    {
     "data": {
      "text/plain": [
       "598156626.432142"
      ]
     },
     "execution_count": 54,
     "metadata": {},
     "output_type": "execute_result"
    }
   ],
   "source": [
    "tauGW/Mbh0"
   ]
  },
  {
   "cell_type": "code",
   "execution_count": 43,
   "metadata": {
    "execution": {
     "iopub.execute_input": "2022-10-19T19:51:15.000213Z",
     "iopub.status.busy": "2022-10-19T19:51:14.998254Z",
     "iopub.status.idle": "2022-10-19T19:51:15.013125Z",
     "shell.execute_reply": "2022-10-19T19:51:15.011535Z",
     "shell.execute_reply.started": "2022-10-19T19:51:15.000156Z"
    }
   },
   "outputs": [
    {
     "data": {
      "text/plain": [
       "2943.2607442771036"
      ]
     },
     "execution_count": 43,
     "metadata": {},
     "output_type": "execute_result"
    }
   ],
   "source": [
    "598156626.4321417*4.920551932748678e-06"
   ]
  },
  {
   "cell_type": "code",
   "execution_count": 35,
   "metadata": {
    "execution": {
     "iopub.execute_input": "2022-10-19T19:20:15.081405Z",
     "iopub.status.busy": "2022-10-19T19:20:15.080798Z",
     "iopub.status.idle": "2022-10-19T19:20:15.092429Z",
     "shell.execute_reply": "2022-10-19T19:20:15.091374Z",
     "shell.execute_reply.started": "2022-10-19T19:20:15.081341Z"
    }
   },
   "outputs": [
    {
     "data": {
      "text/plain": [
       "array([0.18178504, 0.18226445])"
      ]
     },
     "execution_count": 35,
     "metadata": {},
     "output_type": "execute_result"
    }
   ],
   "source": [
    "wf.freq_gw(np.array([0,tauGW]))"
   ]
  },
  {
   "cell_type": "code",
   "execution_count": 56,
   "metadata": {
    "execution": {
     "iopub.execute_input": "2022-10-20T15:16:51.942551Z",
     "iopub.status.busy": "2022-10-20T15:16:51.933883Z",
     "iopub.status.idle": "2022-10-20T15:16:51.958691Z",
     "shell.execute_reply": "2022-10-20T15:16:51.957669Z",
     "shell.execute_reply.started": "2022-10-20T15:16:51.942358Z"
    }
   },
   "outputs": [
    {
     "data": {
      "text/plain": [
       "(0.08818461308922546, 1.5520616621242354, 268.3355912989797)"
      ]
     },
     "execution_count": 56,
     "metadata": {},
     "output_type": "execute_result"
    }
   ],
   "source": [
    "wf.mass_cloud(0)/Mbh0, wf.efold_time()*4.920551932748678e-06/Mbh0, wf.cloud_growth_time()*4.920551932748678e-06/Mbh0"
   ]
  },
  {
   "cell_type": "code",
   "execution_count": 49,
   "metadata": {
    "execution": {
     "iopub.execute_input": "2022-10-19T20:06:53.163609Z",
     "iopub.status.busy": "2022-10-19T20:06:53.162433Z",
     "iopub.status.idle": "2022-10-19T20:06:53.181018Z",
     "shell.execute_reply": "2022-10-19T20:06:53.179476Z",
     "shell.execute_reply.started": "2022-10-19T20:06:53.163572Z"
    }
   },
   "outputs": [
    {
     "data": {
      "text/plain": [
       "2.976073832671917"
      ]
     },
     "execution_count": 49,
     "metadata": {},
     "output_type": "execute_result"
    }
   ],
   "source": [
    "604825.2052507955*4.920551932748678e-06"
   ]
  },
  {
   "cell_type": "code",
   "execution_count": 39,
   "metadata": {
    "execution": {
     "iopub.execute_input": "2022-10-19T19:44:21.797443Z",
     "iopub.status.busy": "2022-10-19T19:44:21.795997Z",
     "iopub.status.idle": "2022-10-19T19:44:21.819898Z",
     "shell.execute_reply": "2022-10-19T19:44:21.818743Z",
     "shell.execute_reply.started": "2022-10-19T19:44:21.797375Z"
    }
   },
   "outputs": [
    {
     "data": {
      "text/plain": [
       "0.0881846130892252"
      ]
     },
     "execution_count": 39,
     "metadata": {},
     "output_type": "execute_result"
    }
   ],
   "source": [
    "wf.mass_cloud(0)"
   ]
  },
  {
   "cell_type": "code",
   "execution_count": 40,
   "metadata": {
    "execution": {
     "iopub.execute_input": "2022-10-19T19:44:23.719197Z",
     "iopub.status.busy": "2022-10-19T19:44:23.718668Z",
     "iopub.status.idle": "2022-10-19T19:44:23.726412Z",
     "shell.execute_reply": "2022-10-19T19:44:23.725589Z",
     "shell.execute_reply.started": "2022-10-19T19:44:23.719159Z"
    }
   },
   "outputs": [
    {
     "data": {
      "text/plain": [
       "315424.3026670456"
      ]
     },
     "execution_count": 40,
     "metadata": {},
     "output_type": "execute_result"
    }
   ],
   "source": [
    "wf.efold_time()"
   ]
  },
  {
   "cell_type": "code",
   "execution_count": 44,
   "metadata": {
    "execution": {
     "iopub.execute_input": "2022-10-19T19:51:38.622039Z",
     "iopub.status.busy": "2022-10-19T19:51:38.621566Z",
     "iopub.status.idle": "2022-10-19T19:51:38.629521Z",
     "shell.execute_reply": "2022-10-19T19:51:38.628329Z",
     "shell.execute_reply.started": "2022-10-19T19:51:38.621954Z"
    }
   },
   "outputs": [
    {
     "data": {
      "text/plain": [
       "8.015508844693864e-11"
      ]
     },
     "execution_count": 44,
     "metadata": {},
     "output_type": "execute_result"
    }
   ],
   "source": [
    "0.6/7.48548859e9"
   ]
  },
  {
   "cell_type": "code",
   "execution_count": 60,
   "metadata": {
    "execution": {
     "iopub.execute_input": "2022-10-20T15:21:40.594292Z",
     "iopub.status.busy": "2022-10-20T15:21:40.592608Z",
     "iopub.status.idle": "2022-10-20T15:21:47.406041Z",
     "shell.execute_reply": "2022-10-20T15:21:47.405726Z",
     "shell.execute_reply.started": "2022-10-20T15:21:40.594209Z"
    }
   },
   "outputs": [
    {
     "data": {
      "text/plain": [
       "86270.22372099003"
      ]
     },
     "execution_count": 60,
     "metadata": {},
     "output_type": "execute_result"
    }
   ],
   "source": [
    "Mbh0 = 1.0\n",
    "abh0 = 0.99\n",
    "mu = 0.1 #8.015508844693864E-11\n",
    "\n",
    "bc = UltralightBoson(spin=1, model=\"relativistic\") \n",
    "bc.make_waveform(Mbh0, abh0, mu, units=\"physical+alpha\")\n",
    "wf = bc.make_waveform(Mbh0, abh0, mu, units=\"physical+alpha\")\n",
    "tauGW = wf.gw_time()\n",
    "tauGW"
   ]
  },
  {
   "cell_type": "code",
   "execution_count": 58,
   "metadata": {
    "execution": {
     "iopub.execute_input": "2022-10-20T15:18:30.235082Z",
     "iopub.status.busy": "2022-10-20T15:18:30.234375Z",
     "iopub.status.idle": "2022-10-20T15:18:30.246572Z",
     "shell.execute_reply": "2022-10-20T15:18:30.245704Z",
     "shell.execute_reply.started": "2022-10-20T15:18:30.235015Z"
    }
   },
   "outputs": [
    {
     "data": {
      "text/plain": [
       "(0.0881846130892252, 1.5520616621242351, 268.34979397254057)"
      ]
     },
     "execution_count": 58,
     "metadata": {},
     "output_type": "execute_result"
    }
   ],
   "source": [
    "wf.mass_cloud(0), wf.efold_time(), wf.cloud_growth_time()"
   ]
  },
  {
   "cell_type": "code",
   "execution_count": 68,
   "metadata": {
    "execution": {
     "iopub.execute_input": "2022-10-20T15:40:14.928869Z",
     "iopub.status.busy": "2022-10-20T15:40:14.921576Z",
     "iopub.status.idle": "2022-10-20T15:40:14.947303Z",
     "shell.execute_reply": "2022-10-20T15:40:14.946341Z",
     "shell.execute_reply.started": "2022-10-20T15:40:14.928691Z"
    }
   },
   "outputs": [
    {
     "data": {
      "text/plain": [
       "1.3310065309192092e-11"
      ]
     },
     "execution_count": 68,
     "metadata": {},
     "output_type": "execute_result"
    }
   ],
   "source": [
    "wf.freq_gw(0)*np.pi*myu.Hz/myu.eV"
   ]
  },
  {
   "cell_type": "code",
   "execution_count": 69,
   "metadata": {
    "execution": {
     "iopub.execute_input": "2022-10-20T15:40:53.410794Z",
     "iopub.status.busy": "2022-10-20T15:40:53.409720Z",
     "iopub.status.idle": "2022-10-20T15:40:53.422529Z",
     "shell.execute_reply": "2022-10-20T15:40:53.421284Z",
     "shell.execute_reply.started": "2022-10-20T15:40:53.410744Z"
    }
   },
   "outputs": [
    {
     "data": {
      "text/plain": [
       "1.3420327148409361e-11"
      ]
     },
     "execution_count": 69,
     "metadata": {},
     "output_type": "execute_result"
    }
   ],
   "source": [
    "mu/(myu.GN*myu.MSolar)/myu.eV"
   ]
  },
  {
   "cell_type": "code",
   "execution_count": 71,
   "metadata": {
    "execution": {
     "iopub.execute_input": "2022-10-20T15:41:31.235090Z",
     "iopub.status.busy": "2022-10-20T15:41:31.234292Z",
     "iopub.status.idle": "2022-10-20T15:41:31.244480Z",
     "shell.execute_reply": "2022-10-20T15:41:31.243380Z",
     "shell.execute_reply.started": "2022-10-20T15:41:31.235011Z"
    }
   },
   "outputs": [
    {
     "data": {
      "text/plain": [
       "1.3359181407823108e-11"
      ]
     },
     "execution_count": 71,
     "metadata": {},
     "output_type": "execute_result"
    }
   ],
   "source": [
    "mu/7.48548859e9"
   ]
  },
  {
   "cell_type": "code",
   "execution_count": 9,
   "metadata": {
    "execution": {
     "iopub.execute_input": "2022-10-19T17:53:12.129285Z",
     "iopub.status.busy": "2022-10-19T17:53:12.128400Z",
     "iopub.status.idle": "2022-10-19T17:53:12.145436Z",
     "shell.execute_reply": "2022-10-19T17:53:12.143887Z",
     "shell.execute_reply.started": "2022-10-19T17:53:12.129215Z"
    }
   },
   "outputs": [
    {
     "data": {
      "text/plain": [
       "array([0.18178504, 0.18226445])"
      ]
     },
     "execution_count": 9,
     "metadata": {},
     "output_type": "execute_result"
    }
   ],
   "source": [
    "tauGW = wf.gw_time()\n",
    "wf.freq_gw(np.array([0,tauGW]))"
   ]
  },
  {
   "cell_type": "code",
   "execution_count": 12,
   "metadata": {
    "execution": {
     "iopub.execute_input": "2022-10-19T18:09:41.474179Z",
     "iopub.status.busy": "2022-10-19T18:09:41.472840Z",
     "iopub.status.idle": "2022-10-19T18:09:41.496217Z",
     "shell.execute_reply": "2022-10-19T18:09:41.495424Z",
     "shell.execute_reply.started": "2022-10-19T18:09:41.474058Z"
    }
   },
   "outputs": [
    {
     "data": {
      "text/plain": [
       "array([1.60295195e-12, 4.00737987e-13])"
      ]
     },
     "execution_count": 12,
     "metadata": {},
     "output_type": "execute_result"
    }
   ],
   "source": [
    "wf.freqdot_gw(np.array([0,tauGW]))"
   ]
  },
  {
   "cell_type": "code",
   "execution_count": 13,
   "metadata": {
    "execution": {
     "iopub.execute_input": "2022-10-19T18:14:53.459354Z",
     "iopub.status.busy": "2022-10-19T18:14:53.457865Z",
     "iopub.status.idle": "2022-10-19T18:14:53.475114Z",
     "shell.execute_reply": "2022-10-19T18:14:53.474039Z",
     "shell.execute_reply.started": "2022-10-19T18:14:53.459279Z"
    }
   },
   "outputs": [
    {
     "data": {
      "text/plain": [
       "array([0.05      , 0.05102639, 0.05205279, ..., 1.09794721, 1.09897361,\n",
       "       1.1       ])"
      ]
     },
     "execution_count": 13,
     "metadata": {},
     "output_type": "execute_result"
    }
   ],
   "source": [
    "np.linspace(0.05, 1.1, 1024)"
   ]
  },
  {
   "cell_type": "code",
   "execution_count": null,
   "metadata": {},
   "outputs": [],
   "source": [
    "models = [\"relativistic\", \"non-relativistic\"]\n",
    "mrk = [\"-\", \":\"]\n",
    "Mbh0 = 1.0\n",
    "abh0 = 0.99\n",
    "mu_range = np.linspace(0.05, 1.1, 1024)\n",
    "for n,model in enumerate(models):\n",
    "    bc = UltralightBoson(spin=0, model=model) \n",
    "    deltaf_f = np.zeros_like(mu_range) \n",
    "    for i,mu in enumerate(mu_range):\n",
    "        try:\n",
    "            wf = bc.make_waveform(Mbh0, abh0, mu, units=\"natural\")\n",
    "        except ValueError:\n",
    "            break \n",
    "        tauGW = wf.gw_time()\n",
    "        f = wf.freq_gw(np.array([0,tauGW]))\n",
    "        deltaf_f[i] = (f[1]-f[0])/f[0]\n",
    "    plt.semilogy(mu_range, deltaf_f, \"k\"+mrk[n], label=model)\n"
   ]
  },
  {
   "cell_type": "code",
   "execution_count": 10,
   "metadata": {
    "execution": {
     "iopub.execute_input": "2022-10-19T18:07:10.123350Z",
     "iopub.status.busy": "2022-10-19T18:07:10.122097Z",
     "iopub.status.idle": "2022-10-19T18:07:10.146881Z",
     "shell.execute_reply": "2022-10-19T18:07:10.145823Z",
     "shell.execute_reply.started": "2022-10-19T18:07:10.123277Z"
    }
   },
   "outputs": [],
   "source": [
    "\n",
    "def gw_strain():\n",
    "    \"\"\"Compare GW strain\"\"\"\n",
    "    models = [\"relativistic\", \"non-relativistic\"]\n",
    "    mrk = [\"-\", \":\"]\n",
    "    Mbh0 = 1.0\n",
    "    abh0 = 0.99\n",
    "    mu_range = np.linspace(0.01, 1.1, 256)\n",
    "    theta = 3*np.pi/4 \n",
    "    for n,model in enumerate(models):\n",
    "        bc = UltralightBoson(spin=0, model=model) \n",
    "        hp = np.zeros_like(mu_range) \n",
    "        hx = np.zeros_like(mu_range) \n",
    "        delta = np.zeros_like(mu_range) \n",
    "        ms = np.zeros_like(mu_range) \n",
    "        for i,mu in enumerate(mu_range):\n",
    "            try:\n",
    "                wf = bc.make_waveform(Mbh0, abh0, mu, units=\"natural\")\n",
    "            except ValueError:\n",
    "                break \n",
    "            omegaGW = 2.0*np.pi*wf.freq_gw(0)\n",
    "            hp[i],hx[i],delta[i] = wf.strain_amp(0, theta)\n",
    "            ms[i] = wf.azimuthal_num()\n",
    "        plt.semilogy(mu_range[ms==1], hp[ms==1], \"k\"+mrk[n], label=model+r\" $h_+$\")\n",
    "        plt.semilogy(mu_range[ms==1], hx[ms==1], \"r\"+mrk[n], label=model+r\" $h_x$\")\n",
    "        plt.semilogy(mu_range[ms==2], hp[ms==2], \"g\"+mrk[n])\n",
    "        plt.semilogy(mu_range[ms==2], hx[ms==2], \"b\"+mrk[n])\n",
    "    plt.ylabel(r\"$h$\")\n",
    "    plt.xlabel(r\"$\\mu M$\")\n",
    "    plt.legend(loc=\"best\")\n",
    "    plt.show()\n"
   ]
  },
  {
   "cell_type": "code",
   "execution_count": 11,
   "metadata": {
    "execution": {
     "iopub.execute_input": "2022-10-19T18:07:22.520451Z",
     "iopub.status.busy": "2022-10-19T18:07:22.520056Z",
     "iopub.status.idle": "2022-10-19T18:07:28.048401Z",
     "shell.execute_reply": "2022-10-19T18:07:28.048080Z",
     "shell.execute_reply.started": "2022-10-19T18:07:22.520418Z"
    }
   },
   "outputs": [
    {
     "data": {
      "image/png": "[encoded data removed]",
      "text/plain": [
       "<Figure size 432x288 with 1 Axes>"
      ]
     },
     "metadata": {
      "needs_background": "light"
     },
     "output_type": "display_data"
    }
   ],
   "source": [
    "gw_strain()"
   ]
  },
  {
   "cell_type": "code",
   "execution_count": null,
   "metadata": {},
   "outputs": [],
   "source": []
  }
 ],
 "metadata": {
  "kernelspec": {
   "display_name": "Python 3",
   "language": "python",
   "name": "python3"
  },
  "language_info": {
   "codemirror_mode": {
    "name": "ipython",
    "version": 3
   },
   "file_extension": ".py",
   "mimetype": "text/x-python",
   "name": "python",
   "nbconvert_exporter": "python",
   "pygments_lexer": "ipython3",
   "version": "3.8.5"
  }
 },
 "nbformat": 4,
 "nbformat_minor": 4
}
