{
 "cells": [
  {
   "cell_type": "code",
   "execution_count": null,
   "metadata": {},
   "outputs": [],
   "source": []
  },
  {
   "cell_type": "markdown",
   "metadata": {
    "execution": {
     "iopub.execute_input": "2022-10-26T19:29:17.215760Z",
     "iopub.status.busy": "2022-10-26T19:29:17.214615Z",
     "iopub.status.idle": "2022-10-26T19:29:17.227421Z",
     "shell.execute_reply": "2022-10-26T19:29:17.226747Z",
     "shell.execute_reply.started": "2022-10-26T19:29:17.215725Z"
    }
   },
   "source": [
    "# Preamble"
   ]
  },
  {
   "cell_type": "code",
   "execution_count": 1,
   "metadata": {
    "execution": {
     "iopub.execute_input": "2022-12-15T21:23:15.636686Z",
     "iopub.status.busy": "2022-12-15T21:23:15.634071Z",
     "iopub.status.idle": "2022-12-15T21:23:16.729787Z",
     "shell.execute_reply": "2022-12-15T21:23:16.729416Z",
     "shell.execute_reply.started": "2022-12-15T21:23:15.636430Z"
    }
   },
   "outputs": [],
   "source": [
    "import sys\n",
    "import numpy as np\n",
    "from matplotlib import pyplot as plt \n",
    "from ultralight_boson import UltralightBoson\n",
    "from scipy.optimize import fsolve\n",
    "import pandas as pd\n",
    "from tqdm import tqdm\n",
    "from scipy.interpolate import interp1d\n",
    "from scipy.integrate import trapz\n",
    "from scipy.integrate import quad\n",
    "\n",
    "import my_units as myu"
   ]
  },
  {
   "cell_type": "code",
   "execution_count": 2,
   "metadata": {
    "execution": {
     "iopub.execute_input": "2022-12-15T21:23:16.732107Z",
     "iopub.status.busy": "2022-12-15T21:23:16.731990Z",
     "iopub.status.idle": "2022-12-15T21:23:16.740595Z",
     "shell.execute_reply": "2022-12-15T21:23:16.739704Z",
     "shell.execute_reply.started": "2022-12-15T21:23:16.732094Z"
    }
   },
   "outputs": [],
   "source": [
    "import matplotlib.pyplot as plt\n",
    "import matplotlib as mpl\n",
    "plt.rcdefaults()\n",
    "from matplotlib import font_manager\n",
    "from matplotlib import rcParams\n",
    "from matplotlib import rc\n",
    "from matplotlib import colors\n",
    "rcParams['mathtext.rm'] = 'Times New Roman' \n",
    "rcParams['text.usetex'] = True\n",
    "rcParams['font.family'] = 'times' #'sans-serif'\n",
    "font_manager.findfont('serif', rebuild_if_missing=True)\n",
    "fontsize = 14\n",
    "rcParams.update({'font.size':fontsize})"
   ]
  },
  {
   "cell_type": "markdown",
   "metadata": {},
   "source": [
    "# Miscellaneous"
   ]
  },
  {
   "cell_type": "code",
   "execution_count": 3,
   "metadata": {
    "execution": {
     "iopub.execute_input": "2022-12-15T21:23:56.450420Z",
     "iopub.status.busy": "2022-12-15T21:23:56.450266Z",
     "iopub.status.idle": "2022-12-15T21:24:07.214817Z",
     "shell.execute_reply": "2022-12-15T21:24:07.213364Z",
     "shell.execute_reply.started": "2022-12-15T21:23:56.450407Z"
    }
   },
   "outputs": [],
   "source": [
    "bc = UltralightBoson(spin=1, model=\"relativistic\") "
   ]
  },
  {
   "cell_type": "code",
   "execution_count": 6,
   "metadata": {
    "execution": {
     "iopub.execute_input": "2022-12-15T21:25:41.636054Z",
     "iopub.status.busy": "2022-12-15T21:25:41.635756Z",
     "iopub.status.idle": "2022-12-15T21:25:41.647690Z",
     "shell.execute_reply": "2022-12-15T21:25:41.647267Z",
     "shell.execute_reply.started": "2022-12-15T21:25:41.636036Z"
    }
   },
   "outputs": [
    {
     "data": {
      "text/plain": [
       "19.27989047198629"
      ]
     },
     "execution_count": 6,
     "metadata": {},
     "output_type": "execute_result"
    }
   ],
   "source": [
    "Mbh0, abh0 = 10, 0.7 \n",
    "\n",
    "wf = bc.make_waveform(Mbh0, abh0, 0.1, units=\"physical+alpha\")\n",
    "wf.cloud_growth_time()*myu.Second/myu.Hour\n",
    "#wf.gw_time()*myu.Second"
   ]
  },
  {
   "cell_type": "code",
   "execution_count": null,
   "metadata": {},
   "outputs": [],
   "source": [
    "180"
   ]
  }
 ],
 "metadata": {
  "kernelspec": {
   "display_name": "Python 3",
   "language": "python",
   "name": "python3"
  },
  "language_info": {
   "codemirror_mode": {
    "name": "ipython",
    "version": 3
   },
   "file_extension": ".py",
   "mimetype": "text/x-python",
   "name": "python",
   "nbconvert_exporter": "python",
   "pygments_lexer": "ipython3",
   "version": "3.8.5"
  }
 },
 "nbformat": 4,
 "nbformat_minor": 4
}
