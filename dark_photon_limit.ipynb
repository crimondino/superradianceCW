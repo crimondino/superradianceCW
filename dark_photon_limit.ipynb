{
 "cells": [
  {
   "cell_type": "markdown",
   "metadata": {
    "execution": {
     "iopub.execute_input": "2022-10-26T19:29:17.215760Z",
     "iopub.status.busy": "2022-10-26T19:29:17.214615Z",
     "iopub.status.idle": "2022-10-26T19:29:17.227421Z",
     "shell.execute_reply": "2022-10-26T19:29:17.226747Z",
     "shell.execute_reply.started": "2022-10-26T19:29:17.215725Z"
    }
   },
   "source": [
    "# Preamble"
   ]
  },
  {
   "cell_type": "code",
   "execution_count": 1,
   "metadata": {
    "execution": {
     "iopub.execute_input": "2024-03-15T20:11:48.776142Z",
     "iopub.status.busy": "2024-03-15T20:11:48.775413Z",
     "iopub.status.idle": "2024-03-15T20:11:49.331818Z",
     "shell.execute_reply": "2024-03-15T20:11:49.331454Z",
     "shell.execute_reply.started": "2024-03-15T20:11:48.775965Z"
    }
   },
   "outputs": [],
   "source": [
    "import numpy as np\n",
    "import pandas as pd\n",
    "from tqdm import tqdm\n",
    "\n",
    "from utils.my_units import *\n",
    "from superrad import ultralight_boson as ub"
   ]
  },
  {
   "cell_type": "code",
   "execution_count": 2,
   "metadata": {
    "execution": {
     "iopub.execute_input": "2024-03-15T20:11:49.332738Z",
     "iopub.status.busy": "2024-03-15T20:11:49.332637Z",
     "iopub.status.idle": "2024-03-15T20:11:49.493711Z",
     "shell.execute_reply": "2024-03-15T20:11:49.493341Z",
     "shell.execute_reply.started": "2024-03-15T20:11:49.332726Z"
    }
   },
   "outputs": [],
   "source": [
    "import matplotlib.pyplot as plt\n",
    "import matplotlib as mpl\n",
    "plt.rcdefaults()\n",
    "from matplotlib import font_manager\n",
    "from matplotlib import rcParams\n",
    "from matplotlib import rc\n",
    "from matplotlib import colors\n",
    "rcParams['mathtext.rm'] = 'Times New Roman' \n",
    "rcParams['text.usetex'] = True\n",
    "rcParams['font.family'] = 'times' #'sans-serif'\n",
    "font_manager.findfont('serif', rebuild_if_missing=True)\n",
    "fontsize = 14\n",
    "rcParams.update({'font.size':fontsize})"
   ]
  },
  {
   "cell_type": "markdown",
   "metadata": {
    "execution": {
     "iopub.execute_input": "2022-10-26T19:29:17.215760Z",
     "iopub.status.busy": "2022-10-26T19:29:17.214615Z",
     "iopub.status.idle": "2022-10-26T19:29:17.227421Z",
     "shell.execute_reply": "2022-10-26T19:29:17.226747Z",
     "shell.execute_reply.started": "2022-10-26T19:29:17.215725Z"
    }
   },
   "source": [
    "# Estimate Number of events"
   ]
  },
  {
   "cell_type": "markdown",
   "metadata": {
    "execution": {
     "iopub.execute_input": "2024-03-15T18:53:39.616781Z",
     "iopub.status.busy": "2024-03-15T18:53:39.615670Z",
     "iopub.status.idle": "2024-03-15T18:53:39.627028Z",
     "shell.execute_reply": "2024-03-15T18:53:39.625868Z",
     "shell.execute_reply.started": "2024-03-15T18:53:39.616713Z"
    },
    "heading_collapsed": "true"
   },
   "source": [
    "## Read in data files"
   ]
  },
  {
   "cell_type": "code",
   "execution_count": 3,
   "metadata": {
    "execution": {
     "iopub.execute_input": "2024-03-15T20:11:50.116620Z",
     "iopub.status.busy": "2024-03-15T20:11:50.116061Z",
     "iopub.status.idle": "2024-03-15T20:11:50.161785Z",
     "shell.execute_reply": "2024-03-15T20:11:50.160943Z",
     "shell.execute_reply.started": "2024-03-15T20:11:50.116556Z"
    }
   },
   "outputs": [
    {
     "data": {
      "text/html": [
       "<div>\n",
       "<style scoped>\n",
       "    .dataframe tbody tr th:only-of-type {\n",
       "        vertical-align: middle;\n",
       "    }\n",
       "\n",
       "    .dataframe tbody tr th {\n",
       "        vertical-align: top;\n",
       "    }\n",
       "\n",
       "    .dataframe thead th {\n",
       "        text-align: right;\n",
       "    }\n",
       "</style>\n",
       "<table border=\"1\" class=\"dataframe\">\n",
       "  <thead>\n",
       "    <tr style=\"text-align: right;\">\n",
       "      <th></th>\n",
       "      <th>NAME</th>\n",
       "      <th>RAJ</th>\n",
       "      <th>DECJ</th>\n",
       "      <th>PMRA</th>\n",
       "      <th>PMDEC</th>\n",
       "      <th>P0</th>\n",
       "      <th>P1</th>\n",
       "      <th>F0</th>\n",
       "      <th>F1</th>\n",
       "      <th>F2</th>\n",
       "      <th>...</th>\n",
       "      <th>R_LUM14</th>\n",
       "      <th>AGE</th>\n",
       "      <th>F_GW</th>\n",
       "      <th>h_max</th>\n",
       "      <th>suggested_pipeline</th>\n",
       "      <th>Tfft from err pos [day]</th>\n",
       "      <th>outliers</th>\n",
       "      <th>upper limits</th>\n",
       "      <th>standard deviation UL</th>\n",
       "      <th>type</th>\n",
       "    </tr>\n",
       "  </thead>\n",
       "  <tbody>\n",
       "    <tr>\n",
       "      <th>0</th>\n",
       "      <td>J1342+2822F</td>\n",
       "      <td>13:42:12</td>\n",
       "      <td>22:28:38</td>\n",
       "      <td>NaN</td>\n",
       "      <td>NaN</td>\n",
       "      <td>0.004400</td>\n",
       "      <td>NaN</td>\n",
       "      <td>227.272727</td>\n",
       "      <td>NaN</td>\n",
       "      <td>NaN</td>\n",
       "      <td>...</td>\n",
       "      <td>NaN</td>\n",
       "      <td>NaN</td>\n",
       "      <td>454.545454</td>\n",
       "      <td>8.010000e-25</td>\n",
       "      <td>NB</td>\n",
       "      <td>inf</td>\n",
       "      <td>no</td>\n",
       "      <td>2.750000e-26</td>\n",
       "      <td>6.200000e-28</td>\n",
       "      <td>triplet</td>\n",
       "    </tr>\n",
       "    <tr>\n",
       "      <th>1</th>\n",
       "      <td>J1803-3002B</td>\n",
       "      <td>18:03:34</td>\n",
       "      <td>-30:02:02</td>\n",
       "      <td>NaN</td>\n",
       "      <td>NaN</td>\n",
       "      <td>0.004397</td>\n",
       "      <td>NaN</td>\n",
       "      <td>227.427792</td>\n",
       "      <td>NaN</td>\n",
       "      <td>NaN</td>\n",
       "      <td>...</td>\n",
       "      <td>NaN</td>\n",
       "      <td>NaN</td>\n",
       "      <td>454.855584</td>\n",
       "      <td>1.060000e-24</td>\n",
       "      <td>NB</td>\n",
       "      <td>inf</td>\n",
       "      <td>no</td>\n",
       "      <td>2.770000e-26</td>\n",
       "      <td>6.190000e-28</td>\n",
       "      <td>triplet</td>\n",
       "    </tr>\n",
       "    <tr>\n",
       "      <th>2</th>\n",
       "      <td>J1823-3021E</td>\n",
       "      <td>18:23:39</td>\n",
       "      <td>-30:22:22</td>\n",
       "      <td>NaN</td>\n",
       "      <td>NaN</td>\n",
       "      <td>0.004394</td>\n",
       "      <td>NaN</td>\n",
       "      <td>227.583068</td>\n",
       "      <td>NaN</td>\n",
       "      <td>NaN</td>\n",
       "      <td>...</td>\n",
       "      <td>NaN</td>\n",
       "      <td>NaN</td>\n",
       "      <td>455.166136</td>\n",
       "      <td>1.030000e-24</td>\n",
       "      <td>NB</td>\n",
       "      <td>inf</td>\n",
       "      <td>no</td>\n",
       "      <td>2.770000e-26</td>\n",
       "      <td>6.560000e-28</td>\n",
       "      <td>triplet</td>\n",
       "    </tr>\n",
       "    <tr>\n",
       "      <th>6</th>\n",
       "      <td>J1624-39</td>\n",
       "      <td>16:24:25</td>\n",
       "      <td>-39:51:00</td>\n",
       "      <td>NaN</td>\n",
       "      <td>NaN</td>\n",
       "      <td>0.002960</td>\n",
       "      <td>NaN</td>\n",
       "      <td>337.837838</td>\n",
       "      <td>NaN</td>\n",
       "      <td>NaN</td>\n",
       "      <td>...</td>\n",
       "      <td>NaN</td>\n",
       "      <td>NaN</td>\n",
       "      <td>675.675676</td>\n",
       "      <td>3.110000e-24</td>\n",
       "      <td>NB</td>\n",
       "      <td>inf</td>\n",
       "      <td>no</td>\n",
       "      <td>2.980000e-26</td>\n",
       "      <td>7.310000e-28</td>\n",
       "      <td>triplet</td>\n",
       "    </tr>\n",
       "    <tr>\n",
       "      <th>7</th>\n",
       "      <td>J2045-68</td>\n",
       "      <td>20:45:17</td>\n",
       "      <td>-68:36:20</td>\n",
       "      <td>NaN</td>\n",
       "      <td>NaN</td>\n",
       "      <td>0.002960</td>\n",
       "      <td>NaN</td>\n",
       "      <td>337.837838</td>\n",
       "      <td>NaN</td>\n",
       "      <td>NaN</td>\n",
       "      <td>...</td>\n",
       "      <td>NaN</td>\n",
       "      <td>NaN</td>\n",
       "      <td>675.675676</td>\n",
       "      <td>6.420000e-24</td>\n",
       "      <td>NB</td>\n",
       "      <td>inf</td>\n",
       "      <td>no</td>\n",
       "      <td>3.300000e-26</td>\n",
       "      <td>7.290000e-28</td>\n",
       "      <td>triplet</td>\n",
       "    </tr>\n",
       "  </tbody>\n",
       "</table>\n",
       "<p>5 rows × 27 columns</p>\n",
       "</div>"
      ],
      "text/plain": [
       "          NAME       RAJ       DECJ  PMRA  PMDEC        P0  P1          F0  \\\n",
       "0  J1342+2822F  13:42:12   22:28:38   NaN    NaN  0.004400 NaN  227.272727   \n",
       "1  J1803-3002B  18:03:34  -30:02:02   NaN    NaN  0.004397 NaN  227.427792   \n",
       "2  J1823-3021E  18:23:39  -30:22:22   NaN    NaN  0.004394 NaN  227.583068   \n",
       "6     J1624-39  16:24:25  -39:51:00   NaN    NaN  0.002960 NaN  337.837838   \n",
       "7     J2045-68  20:45:17  -68:36:20   NaN    NaN  0.002960 NaN  337.837838   \n",
       "\n",
       "   F1  F2  ...  R_LUM14  AGE        F_GW         h_max  suggested_pipeline  \\\n",
       "0 NaN NaN  ...      NaN  NaN  454.545454  8.010000e-25                  NB   \n",
       "1 NaN NaN  ...      NaN  NaN  454.855584  1.060000e-24                  NB   \n",
       "2 NaN NaN  ...      NaN  NaN  455.166136  1.030000e-24                  NB   \n",
       "6 NaN NaN  ...      NaN  NaN  675.675676  3.110000e-24                  NB   \n",
       "7 NaN NaN  ...      NaN  NaN  675.675676  6.420000e-24                  NB   \n",
       "\n",
       "   Tfft from err pos [day]  outliers  upper limits  standard deviation UL  \\\n",
       "0                      inf        no  2.750000e-26           6.200000e-28   \n",
       "1                      inf        no  2.770000e-26           6.190000e-28   \n",
       "2                      inf        no  2.770000e-26           6.560000e-28   \n",
       "6                      inf        no  2.980000e-26           7.310000e-28   \n",
       "7                      inf        no  3.300000e-26           7.290000e-28   \n",
       "\n",
       "      type  \n",
       "0  triplet  \n",
       "1  triplet  \n",
       "2  triplet  \n",
       "6  triplet  \n",
       "7  triplet  \n",
       "\n",
       "[5 rows x 27 columns]"
      ]
     },
     "execution_count": 3,
     "metadata": {},
     "output_type": "execute_result"
    }
   ],
   "source": [
    "### Read in data file with upper limits\n",
    "\n",
    "df_triplets = pd.read_csv('data/Fake_pulsars_triplets.csv', index_col=0)\n",
    "df_triplets = df_triplets[~np.isnan(df_triplets['upper limits'])]\n",
    "df_triplets['type'] = 'triplet'\n",
    "df_triplets"
   ]
  },
  {
   "cell_type": "code",
   "execution_count": 4,
   "metadata": {
    "execution": {
     "iopub.execute_input": "2024-03-15T20:11:50.787252Z",
     "iopub.status.busy": "2024-03-15T20:11:50.786806Z",
     "iopub.status.idle": "2024-03-15T20:11:50.803773Z",
     "shell.execute_reply": "2024-03-15T20:11:50.802661Z",
     "shell.execute_reply.started": "2024-03-15T20:11:50.787217Z"
    }
   },
   "outputs": [],
   "source": [
    "df_doublets = pd.read_csv('data/Fake_pulsars_doublets.csv', index_col=0)\n",
    "df_doublets = df_doublets[~np.isnan(df_doublets['upper_limits'])]\n",
    "df_doublets.rename(columns={\"upper_limits\": \"upper limits\"}, inplace=True)\n",
    "df_doublets['type'] = 'doublet'"
   ]
  },
  {
   "cell_type": "code",
   "execution_count": 5,
   "metadata": {
    "execution": {
     "iopub.execute_input": "2024-03-15T20:11:51.416750Z",
     "iopub.status.busy": "2024-03-15T20:11:51.416298Z",
     "iopub.status.idle": "2024-03-15T20:11:51.431514Z",
     "shell.execute_reply": "2024-03-15T20:11:51.430414Z",
     "shell.execute_reply.started": "2024-03-15T20:11:51.416713Z"
    }
   },
   "outputs": [],
   "source": [
    "df_fdots = pd.read_csv('data/Fake_pulsars_fdot.csv', index_col=0)\n",
    "df_fdots = df_fdots[~np.isnan(df_fdots['upper limits'])]\n",
    "df_fdots['type'] = 'fdot'"
   ]
  },
  {
   "cell_type": "code",
   "execution_count": 6,
   "metadata": {
    "execution": {
     "iopub.execute_input": "2024-03-15T20:11:51.738228Z",
     "iopub.status.busy": "2024-03-15T20:11:51.737798Z",
     "iopub.status.idle": "2024-03-15T20:11:51.779183Z",
     "shell.execute_reply": "2024-03-15T20:11:51.777756Z",
     "shell.execute_reply.started": "2024-03-15T20:11:51.738191Z"
    }
   },
   "outputs": [
    {
     "data": {
      "text/html": [
       "<div>\n",
       "<style scoped>\n",
       "    .dataframe tbody tr th:only-of-type {\n",
       "        vertical-align: middle;\n",
       "    }\n",
       "\n",
       "    .dataframe tbody tr th {\n",
       "        vertical-align: top;\n",
       "    }\n",
       "\n",
       "    .dataframe thead th {\n",
       "        text-align: right;\n",
       "    }\n",
       "</style>\n",
       "<table border=\"1\" class=\"dataframe\">\n",
       "  <thead>\n",
       "    <tr style=\"text-align: right;\">\n",
       "      <th></th>\n",
       "      <th>NAME</th>\n",
       "      <th>RAJ</th>\n",
       "      <th>DECJ</th>\n",
       "      <th>F0</th>\n",
       "      <th>F1</th>\n",
       "      <th>F_GW</th>\n",
       "      <th>upper limits</th>\n",
       "      <th>type</th>\n",
       "    </tr>\n",
       "  </thead>\n",
       "  <tbody>\n",
       "    <tr>\n",
       "      <th>0.0</th>\n",
       "      <td>J1757-2745</td>\n",
       "      <td>17:57:55</td>\n",
       "      <td>-27:45:40</td>\n",
       "      <td>56.538013</td>\n",
       "      <td>4.170000e-17</td>\n",
       "      <td>113.076026</td>\n",
       "      <td>2.620000e-26</td>\n",
       "      <td>fdot</td>\n",
       "    </tr>\n",
       "    <tr>\n",
       "      <th>1.0</th>\n",
       "      <td>B1639+36A/J1641+3627A</td>\n",
       "      <td>16:41:41</td>\n",
       "      <td>NaN</td>\n",
       "      <td>96.362235</td>\n",
       "      <td>6.750000e-16</td>\n",
       "      <td>192.724470</td>\n",
       "      <td>2.380000e-26</td>\n",
       "      <td>fdot</td>\n",
       "    </tr>\n",
       "    <tr>\n",
       "      <th>3.0</th>\n",
       "      <td>J1910-5959B</td>\n",
       "      <td>19:10:52</td>\n",
       "      <td>-59:59:01</td>\n",
       "      <td>119.648733</td>\n",
       "      <td>1.130000e-14</td>\n",
       "      <td>239.297466</td>\n",
       "      <td>2.320000e-26</td>\n",
       "      <td>fdot</td>\n",
       "    </tr>\n",
       "    <tr>\n",
       "      <th>2.0</th>\n",
       "      <td>J1122-3546</td>\n",
       "      <td>11:22</td>\n",
       "      <td>-35:46:00</td>\n",
       "      <td>128.205128</td>\n",
       "      <td>NaN</td>\n",
       "      <td>256.410256</td>\n",
       "      <td>2.370000e-26</td>\n",
       "      <td>doublet</td>\n",
       "    </tr>\n",
       "    <tr>\n",
       "      <th>3.0</th>\n",
       "      <td>J1546-5925</td>\n",
       "      <td>15:46</td>\n",
       "      <td>-59:25:00</td>\n",
       "      <td>128.205128</td>\n",
       "      <td>NaN</td>\n",
       "      <td>256.410256</td>\n",
       "      <td>2.360000e-26</td>\n",
       "      <td>doublet</td>\n",
       "    </tr>\n",
       "    <tr>\n",
       "      <th>7.0</th>\n",
       "      <td>J1748-2446T</td>\n",
       "      <td>17:48:05</td>\n",
       "      <td>-24:46:45</td>\n",
       "      <td>141.145053</td>\n",
       "      <td>NaN</td>\n",
       "      <td>282.290106</td>\n",
       "      <td>2.500000e-26</td>\n",
       "      <td>doublet</td>\n",
       "    </tr>\n",
       "    <tr>\n",
       "      <th>5.0</th>\n",
       "      <td>J1748-2021C</td>\n",
       "      <td>17:48:51</td>\n",
       "      <td>-20:21:54</td>\n",
       "      <td>160.592710</td>\n",
       "      <td>1.540000e-15</td>\n",
       "      <td>321.185420</td>\n",
       "      <td>2.520000e-26</td>\n",
       "      <td>fdot</td>\n",
       "    </tr>\n",
       "    <tr>\n",
       "      <th>6.0</th>\n",
       "      <td>B0021-72C/J0024-7204C</td>\n",
       "      <td>0:23:50</td>\n",
       "      <td>-72:04:32</td>\n",
       "      <td>173.708219</td>\n",
       "      <td>1.500000e-15</td>\n",
       "      <td>347.416438</td>\n",
       "      <td>2.420000e-26</td>\n",
       "      <td>fdot</td>\n",
       "    </tr>\n",
       "    <tr>\n",
       "      <th>10.0</th>\n",
       "      <td>J1824-2452E</td>\n",
       "      <td>18:24:33</td>\n",
       "      <td>-24:52:11</td>\n",
       "      <td>184.501845</td>\n",
       "      <td>NaN</td>\n",
       "      <td>369.003690</td>\n",
       "      <td>2.520000e-26</td>\n",
       "      <td>doublet</td>\n",
       "    </tr>\n",
       "    <tr>\n",
       "      <th>7.0</th>\n",
       "      <td>J1911+0101B</td>\n",
       "      <td>19:11:13</td>\n",
       "      <td>NaN</td>\n",
       "      <td>185.724277</td>\n",
       "      <td>6.900000e-17</td>\n",
       "      <td>371.448554</td>\n",
       "      <td>2.730000e-26</td>\n",
       "      <td>fdot</td>\n",
       "    </tr>\n",
       "    <tr>\n",
       "      <th>8.0</th>\n",
       "      <td>B0021-72D/J0024-7204D</td>\n",
       "      <td>0:24:14</td>\n",
       "      <td>-72:04:44</td>\n",
       "      <td>186.651670</td>\n",
       "      <td>1.190000e-16</td>\n",
       "      <td>373.303340</td>\n",
       "      <td>2.550000e-26</td>\n",
       "      <td>fdot</td>\n",
       "    </tr>\n",
       "    <tr>\n",
       "      <th>15.0</th>\n",
       "      <td>J1748-2446ac</td>\n",
       "      <td>17:48:05</td>\n",
       "      <td>-24:46:45</td>\n",
       "      <td>196.582994</td>\n",
       "      <td>NaN</td>\n",
       "      <td>393.165988</td>\n",
       "      <td>2.610000e-26</td>\n",
       "      <td>doublet</td>\n",
       "    </tr>\n",
       "    <tr>\n",
       "      <th>9.0</th>\n",
       "      <td>J0024-7204Z</td>\n",
       "      <td>0:24:06</td>\n",
       "      <td>-72:05:01</td>\n",
       "      <td>219.565606</td>\n",
       "      <td>2.190000e-16</td>\n",
       "      <td>439.131212</td>\n",
       "      <td>2.590000e-26</td>\n",
       "      <td>fdot</td>\n",
       "    </tr>\n",
       "    <tr>\n",
       "      <th>18.0</th>\n",
       "      <td>J0024-7204Z</td>\n",
       "      <td>0:24:06</td>\n",
       "      <td>-72:05:01</td>\n",
       "      <td>219.565606</td>\n",
       "      <td>2.190000e-16</td>\n",
       "      <td>439.131212</td>\n",
       "      <td>2.590000e-26</td>\n",
       "      <td>doublet</td>\n",
       "    </tr>\n",
       "    <tr>\n",
       "      <th>0.0</th>\n",
       "      <td>J1342+2822F</td>\n",
       "      <td>13:42:12</td>\n",
       "      <td>22:28:38</td>\n",
       "      <td>227.272727</td>\n",
       "      <td>NaN</td>\n",
       "      <td>454.545454</td>\n",
       "      <td>2.750000e-26</td>\n",
       "      <td>triplet</td>\n",
       "    </tr>\n",
       "    <tr>\n",
       "      <th>1.0</th>\n",
       "      <td>J1803-3002B</td>\n",
       "      <td>18:03:34</td>\n",
       "      <td>-30:02:02</td>\n",
       "      <td>227.427792</td>\n",
       "      <td>NaN</td>\n",
       "      <td>454.855584</td>\n",
       "      <td>2.770000e-26</td>\n",
       "      <td>triplet</td>\n",
       "    </tr>\n",
       "    <tr>\n",
       "      <th>2.0</th>\n",
       "      <td>J1823-3021E</td>\n",
       "      <td>18:23:39</td>\n",
       "      <td>-30:22:22</td>\n",
       "      <td>227.583068</td>\n",
       "      <td>NaN</td>\n",
       "      <td>455.166136</td>\n",
       "      <td>2.770000e-26</td>\n",
       "      <td>triplet</td>\n",
       "    </tr>\n",
       "    <tr>\n",
       "      <th>10.0</th>\n",
       "      <td>B0021-72L/J0024-7204L</td>\n",
       "      <td>0:24:04</td>\n",
       "      <td>-72:04:57</td>\n",
       "      <td>230.087746</td>\n",
       "      <td>6.460000e-15</td>\n",
       "      <td>460.175492</td>\n",
       "      <td>2.660000e-26</td>\n",
       "      <td>fdot</td>\n",
       "    </tr>\n",
       "    <tr>\n",
       "      <th>22.0</th>\n",
       "      <td>J1326-4728E</td>\n",
       "      <td>13:26:44</td>\n",
       "      <td>-47:30:00</td>\n",
       "      <td>237.658566</td>\n",
       "      <td>NaN</td>\n",
       "      <td>475.317132</td>\n",
       "      <td>2.920000e-26</td>\n",
       "      <td>doublet</td>\n",
       "    </tr>\n",
       "    <tr>\n",
       "      <th>11.0</th>\n",
       "      <td>B0021-72G/J0024-7204G</td>\n",
       "      <td>0:24:08</td>\n",
       "      <td>-72:04:40</td>\n",
       "      <td>247.501525</td>\n",
       "      <td>2.580000e-15</td>\n",
       "      <td>495.003050</td>\n",
       "      <td>2.720000e-26</td>\n",
       "      <td>fdot</td>\n",
       "    </tr>\n",
       "    <tr>\n",
       "      <th>24.0</th>\n",
       "      <td>B0021-72G/J0024-7204G</td>\n",
       "      <td>0:24:08</td>\n",
       "      <td>-72:04:40</td>\n",
       "      <td>247.501525</td>\n",
       "      <td>2.580000e-15</td>\n",
       "      <td>495.003050</td>\n",
       "      <td>2.720000e-26</td>\n",
       "      <td>doublet</td>\n",
       "    </tr>\n",
       "    <tr>\n",
       "      <th>28.0</th>\n",
       "      <td>B0021-72M/J0024-7204M</td>\n",
       "      <td>0:23:54</td>\n",
       "      <td>-72:05:31</td>\n",
       "      <td>271.987229</td>\n",
       "      <td>2.840000e-15</td>\n",
       "      <td>543.974458</td>\n",
       "      <td>2.770000e-26</td>\n",
       "      <td>doublet</td>\n",
       "    </tr>\n",
       "    <tr>\n",
       "      <th>13.0</th>\n",
       "      <td>B0021-72M/J0024-7204M</td>\n",
       "      <td>0:23:54</td>\n",
       "      <td>-72:05:31</td>\n",
       "      <td>271.987229</td>\n",
       "      <td>2.840000e-15</td>\n",
       "      <td>543.974458</td>\n",
       "      <td>2.770000e-26</td>\n",
       "      <td>fdot</td>\n",
       "    </tr>\n",
       "    <tr>\n",
       "      <th>15.0</th>\n",
       "      <td>B0021-72N/J0024-7204N</td>\n",
       "      <td>0:24:09</td>\n",
       "      <td>-72:04:29</td>\n",
       "      <td>327.444319</td>\n",
       "      <td>2.340000e-15</td>\n",
       "      <td>654.888638</td>\n",
       "      <td>2.810000e-26</td>\n",
       "      <td>fdot</td>\n",
       "    </tr>\n",
       "    <tr>\n",
       "      <th>7.0</th>\n",
       "      <td>J2045-68</td>\n",
       "      <td>20:45:17</td>\n",
       "      <td>-68:36:20</td>\n",
       "      <td>337.837838</td>\n",
       "      <td>NaN</td>\n",
       "      <td>675.675676</td>\n",
       "      <td>3.300000e-26</td>\n",
       "      <td>triplet</td>\n",
       "    </tr>\n",
       "    <tr>\n",
       "      <th>6.0</th>\n",
       "      <td>J1624-39</td>\n",
       "      <td>16:24:25</td>\n",
       "      <td>-39:51:00</td>\n",
       "      <td>337.837838</td>\n",
       "      <td>NaN</td>\n",
       "      <td>675.675676</td>\n",
       "      <td>2.980000e-26</td>\n",
       "      <td>triplet</td>\n",
       "    </tr>\n",
       "    <tr>\n",
       "      <th>35.0</th>\n",
       "      <td>J0418+6635</td>\n",
       "      <td>4:18:48</td>\n",
       "      <td>NaN</td>\n",
       "      <td>343.642612</td>\n",
       "      <td>NaN</td>\n",
       "      <td>687.285224</td>\n",
       "      <td>3.330000e-26</td>\n",
       "      <td>doublet</td>\n",
       "    </tr>\n",
       "    <tr>\n",
       "      <th>37.0</th>\n",
       "      <td>J1308-23</td>\n",
       "      <td>13:08</td>\n",
       "      <td>-23</td>\n",
       "      <td>353.356890</td>\n",
       "      <td>NaN</td>\n",
       "      <td>706.713780</td>\n",
       "      <td>3.470000e-26</td>\n",
       "      <td>doublet</td>\n",
       "    </tr>\n",
       "  </tbody>\n",
       "</table>\n",
       "</div>"
      ],
      "text/plain": [
       "                       NAME       RAJ       DECJ          F0            F1  \\\n",
       "0.0              J1757-2745  17:57:55  -27:45:40   56.538013  4.170000e-17   \n",
       "1.0   B1639+36A/J1641+3627A  16:41:41        NaN   96.362235  6.750000e-16   \n",
       "3.0             J1910-5959B  19:10:52  -59:59:01  119.648733  1.130000e-14   \n",
       "2.0              J1122-3546     11:22  -35:46:00  128.205128           NaN   \n",
       "3.0              J1546-5925     15:46  -59:25:00  128.205128           NaN   \n",
       "7.0             J1748-2446T  17:48:05  -24:46:45  141.145053           NaN   \n",
       "5.0             J1748-2021C  17:48:51  -20:21:54  160.592710  1.540000e-15   \n",
       "6.0   B0021-72C/J0024-7204C   0:23:50  -72:04:32  173.708219  1.500000e-15   \n",
       "10.0            J1824-2452E  18:24:33  -24:52:11  184.501845           NaN   \n",
       "7.0             J1911+0101B  19:11:13        NaN  185.724277  6.900000e-17   \n",
       "8.0   B0021-72D/J0024-7204D   0:24:14  -72:04:44  186.651670  1.190000e-16   \n",
       "15.0           J1748-2446ac  17:48:05  -24:46:45  196.582994           NaN   \n",
       "9.0             J0024-7204Z   0:24:06  -72:05:01  219.565606  2.190000e-16   \n",
       "18.0            J0024-7204Z   0:24:06  -72:05:01  219.565606  2.190000e-16   \n",
       "0.0             J1342+2822F  13:42:12   22:28:38  227.272727           NaN   \n",
       "1.0             J1803-3002B  18:03:34  -30:02:02  227.427792           NaN   \n",
       "2.0             J1823-3021E  18:23:39  -30:22:22  227.583068           NaN   \n",
       "10.0  B0021-72L/J0024-7204L   0:24:04  -72:04:57  230.087746  6.460000e-15   \n",
       "22.0            J1326-4728E  13:26:44  -47:30:00  237.658566           NaN   \n",
       "11.0  B0021-72G/J0024-7204G   0:24:08  -72:04:40  247.501525  2.580000e-15   \n",
       "24.0  B0021-72G/J0024-7204G   0:24:08  -72:04:40  247.501525  2.580000e-15   \n",
       "28.0  B0021-72M/J0024-7204M   0:23:54  -72:05:31  271.987229  2.840000e-15   \n",
       "13.0  B0021-72M/J0024-7204M   0:23:54  -72:05:31  271.987229  2.840000e-15   \n",
       "15.0  B0021-72N/J0024-7204N   0:24:09  -72:04:29  327.444319  2.340000e-15   \n",
       "7.0                J2045-68  20:45:17  -68:36:20  337.837838           NaN   \n",
       "6.0                J1624-39  16:24:25  -39:51:00  337.837838           NaN   \n",
       "35.0             J0418+6635   4:18:48        NaN  343.642612           NaN   \n",
       "37.0               J1308-23     13:08        -23  353.356890           NaN   \n",
       "\n",
       "            F_GW  upper limits     type  \n",
       "0.0   113.076026  2.620000e-26     fdot  \n",
       "1.0   192.724470  2.380000e-26     fdot  \n",
       "3.0   239.297466  2.320000e-26     fdot  \n",
       "2.0   256.410256  2.370000e-26  doublet  \n",
       "3.0   256.410256  2.360000e-26  doublet  \n",
       "7.0   282.290106  2.500000e-26  doublet  \n",
       "5.0   321.185420  2.520000e-26     fdot  \n",
       "6.0   347.416438  2.420000e-26     fdot  \n",
       "10.0  369.003690  2.520000e-26  doublet  \n",
       "7.0   371.448554  2.730000e-26     fdot  \n",
       "8.0   373.303340  2.550000e-26     fdot  \n",
       "15.0  393.165988  2.610000e-26  doublet  \n",
       "9.0   439.131212  2.590000e-26     fdot  \n",
       "18.0  439.131212  2.590000e-26  doublet  \n",
       "0.0   454.545454  2.750000e-26  triplet  \n",
       "1.0   454.855584  2.770000e-26  triplet  \n",
       "2.0   455.166136  2.770000e-26  triplet  \n",
       "10.0  460.175492  2.660000e-26     fdot  \n",
       "22.0  475.317132  2.920000e-26  doublet  \n",
       "11.0  495.003050  2.720000e-26     fdot  \n",
       "24.0  495.003050  2.720000e-26  doublet  \n",
       "28.0  543.974458  2.770000e-26  doublet  \n",
       "13.0  543.974458  2.770000e-26     fdot  \n",
       "15.0  654.888638  2.810000e-26     fdot  \n",
       "7.0   675.675676  3.300000e-26  triplet  \n",
       "6.0   675.675676  2.980000e-26  triplet  \n",
       "35.0  687.285224  3.330000e-26  doublet  \n",
       "37.0  706.713780  3.470000e-26  doublet  "
      ]
     },
     "execution_count": 6,
     "metadata": {},
     "output_type": "execute_result"
    }
   ],
   "source": [
    "columns_to_use = ['NAME', 'RAJ', 'DECJ', 'F0', 'F1', 'F_GW', 'upper limits', 'type']\n",
    "df_pulsars = pd.concat([df_triplets[columns_to_use], df_doublets[columns_to_use], df_fdots[columns_to_use]]) \n",
    "df_pulsars.sort_values(by='F_GW', inplace=True)\n",
    "df_pulsars"
   ]
  },
  {
   "cell_type": "markdown",
   "metadata": {
    "execution": {
     "iopub.execute_input": "2024-03-15T18:53:39.616781Z",
     "iopub.status.busy": "2024-03-15T18:53:39.615670Z",
     "iopub.status.idle": "2024-03-15T18:53:39.627028Z",
     "shell.execute_reply": "2024-03-15T18:53:39.625868Z",
     "shell.execute_reply.started": "2024-03-15T18:53:39.616713Z"
    }
   },
   "source": [
    "## Functions"
   ]
  },
  {
   "cell_type": "code",
   "execution_count": 7,
   "metadata": {
    "execution": {
     "iopub.execute_input": "2024-03-15T20:11:53.468525Z",
     "iopub.status.busy": "2024-03-15T20:11:53.468173Z",
     "iopub.status.idle": "2024-03-15T20:11:53.473758Z",
     "shell.execute_reply": "2024-03-15T20:11:53.472941Z",
     "shell.execute_reply.started": "2024-03-15T20:11:53.468492Z"
    }
   },
   "outputs": [],
   "source": [
    "# Black hole mass distribution from 2003.03359\n",
    "Mmin, Mmax = 5, 30\n",
    "Norm = 0.740741*(Mmax**(1.35)-Mmin**(1.35))/( (Mmax*Mmin)**(1.35))\n",
    "\n",
    "def dndM(m):\n",
    "    return 1/Norm*1/m**(2.35)"
   ]
  },
  {
   "cell_type": "code",
   "execution_count": 9,
   "metadata": {
    "execution": {
     "iopub.execute_input": "2024-03-15T20:11:55.117399Z",
     "iopub.status.busy": "2024-03-15T20:11:55.117298Z",
     "iopub.status.idle": "2024-03-15T20:11:55.121990Z",
     "shell.execute_reply": "2024-03-15T20:11:55.121685Z",
     "shell.execute_reply.started": "2024-03-15T20:11:55.117386Z"
    }
   },
   "outputs": [],
   "source": [
    "### Function to compute the strain hTilde as a function of mass, spin, and age\n",
    "\n",
    "def get_hTilde_grid(freq_GW, MList, aList, tSteps, RMW=20*kpc, tMW = 13.6*1E9*Year):\n",
    "\n",
    "    hTilde = np.zeros((len(MList), len(aList), tSteps))\n",
    "    tGrid = np.zeros((len(MList), len(aList), tSteps))\n",
    "\n",
    "    mu = np.pi*freq_GW*Hz\n",
    "    \n",
    "    for i_m, mbh in enumerate(tqdm(MList)):\n",
    "        alpha = GN*mu*mbh*MSolar\n",
    "\n",
    "        for i_a, abh0 in enumerate(aList):\n",
    "            try:\n",
    "                wf = bc.make_waveform(mbh, abh0, alpha, units=\"physical+alpha\")\n",
    "                if wf.azimuthal_num()==1:\n",
    "                    tauGW = wf.gw_time() \n",
    "                    tauSR = wf.cloud_growth_time() \n",
    "\n",
    "                    tTildeMin = tauGW*Second/tMW*1E-4\n",
    "                    tTildeMax = 1-tauSR*Second/tMW    \n",
    "                    tListTemp = np.concatenate([[0], np.geomspace(tTildeMin,tTildeMax,tSteps-1)])\n",
    "                    tGrid[i_m, i_a, :] = tListTemp\n",
    "\n",
    "                    hTilde[i_m, i_a, :] = wf.strain_char(tListTemp*tMW/Second, dObs=(RMW/Mpc) )\n",
    "\n",
    "            except ValueError:\n",
    "                pass \n",
    "            \n",
    "    return hTilde, tGrid"
   ]
  },
  {
   "cell_type": "code",
   "execution_count": 10,
   "metadata": {
    "execution": {
     "iopub.execute_input": "2024-03-15T20:12:01.433810Z",
     "iopub.status.busy": "2024-03-15T20:12:01.433325Z",
     "iopub.status.idle": "2024-03-15T20:12:01.440287Z",
     "shell.execute_reply": "2024-03-15T20:12:01.439467Z",
     "shell.execute_reply.started": "2024-03-15T20:12:01.433774Z"
    }
   },
   "outputs": [],
   "source": [
    "def get_dfdlogh(hVal, hTilde, fMList):\n",
    "    \n",
    "    thFnc = np.heaviside((1-hTilde/hVal), np.zeros(hTilde.shape))\n",
    "    integrand = (hTilde/hVal)**3*thFnc\n",
    "    \n",
    "    intOvert = np.trapz(integrand, x=tGrid, axis=2)\n",
    "    intOvera = np.trapz(intOvert, x=aList, axis=1)\n",
    "    res = 3*np.trapz(fMList*intOvera, x=MList)\n",
    "    \n",
    "    return res    "
   ]
  },
  {
   "cell_type": "code",
   "execution_count": 21,
   "metadata": {
    "execution": {
     "iopub.execute_input": "2024-03-15T20:22:02.591645Z",
     "iopub.status.busy": "2024-03-15T20:22:02.589866Z",
     "iopub.status.idle": "2024-03-15T20:22:02.613715Z",
     "shell.execute_reply": "2024-03-15T20:22:02.612194Z",
     "shell.execute_reply.started": "2024-03-15T20:22:02.591529Z"
    }
   },
   "outputs": [],
   "source": [
    "def get_dfdlogh_ip(hList, p_ind=0):\n",
    "    hTilde, tGrid = get_hTilde_grid(df_pulsars['F_GW'].iloc[p_ind], MList, aList, tSteps, RMW, tMW ) # GW frequency must be in Hz    \n",
    "    \n",
    "    dfdlogh = np.zeros(hList.shape)\n",
    "    fMList = dndM(MList)\n",
    "\n",
    "    for i_h, hVal in enumerate(tqdm(hList)):    \n",
    "        dfdlogh[i_h] = get_dfdlogh(hVal, hTilde, fMList)\n",
    "        \n",
    "    return dfdlogh"
   ]
  },
  {
   "cell_type": "markdown",
   "metadata": {},
   "source": [
    "## Compute the differential number of events"
   ]
  },
  {
   "cell_type": "code",
   "execution_count": 11,
   "metadata": {
    "execution": {
     "iopub.execute_input": "2024-03-15T20:12:05.086408Z",
     "iopub.status.busy": "2024-03-15T20:12:05.085753Z",
     "iopub.status.idle": "2024-03-15T20:12:05.095291Z",
     "shell.execute_reply": "2024-03-15T20:12:05.094032Z",
     "shell.execute_reply.started": "2024-03-15T20:12:05.086333Z"
    }
   },
   "outputs": [],
   "source": [
    "# Grid of values of M, a and t\n",
    "MList = np.geomspace(Mmin, Mmax, 100) \n",
    "aList = np.linspace(0, 1, 100)\n",
    "tSteps = 500\n",
    "\n",
    "# Parameters used for Galactic BH distribution\n",
    "RMW=20*kpc; tMW = 13.6*1E9*Year"
   ]
  },
  {
   "cell_type": "code",
   "execution_count": 12,
   "metadata": {
    "execution": {
     "iopub.execute_input": "2024-03-15T20:12:06.337778Z",
     "iopub.status.busy": "2024-03-15T20:12:06.337419Z",
     "iopub.status.idle": "2024-03-15T20:12:11.259629Z",
     "shell.execute_reply": "2024-03-15T20:12:11.259283Z",
     "shell.execute_reply.started": "2024-03-15T20:12:06.337743Z"
    }
   },
   "outputs": [],
   "source": [
    "bc = ub.UltralightBoson(spin=1, model=\"relativistic\") "
   ]
  },
  {
   "cell_type": "markdown",
   "metadata": {},
   "source": [
    "### Example for one frequency"
   ]
  },
  {
   "cell_type": "code",
   "execution_count": 13,
   "metadata": {
    "execution": {
     "iopub.execute_input": "2024-03-15T20:12:11.260585Z",
     "iopub.status.busy": "2024-03-15T20:12:11.260483Z",
     "iopub.status.idle": "2024-03-15T20:14:15.974873Z",
     "shell.execute_reply": "2024-03-15T20:14:15.974280Z",
     "shell.execute_reply.started": "2024-03-15T20:12:11.260574Z"
    }
   },
   "outputs": [
    {
     "name": "stderr",
     "output_type": "stream",
     "text": [
      "100%|██████████| 100/100 [02:04<00:00,  1.25s/it]\n"
     ]
    }
   ],
   "source": [
    "p_ind = 0\n",
    "hTilde, tGrid = get_hTilde_grid(df_pulsars['F_GW'].iloc[p_ind], MList, aList, tSteps, RMW, tMW ) # GW frequency must be in Hz"
   ]
  },
  {
   "cell_type": "code",
   "execution_count": 14,
   "metadata": {
    "execution": {
     "iopub.execute_input": "2024-03-15T20:14:43.849353Z",
     "iopub.status.busy": "2024-03-15T20:14:43.848597Z",
     "iopub.status.idle": "2024-03-15T20:15:41.594462Z",
     "shell.execute_reply": "2024-03-15T20:15:41.594150Z",
     "shell.execute_reply.started": "2024-03-15T20:14:43.849272Z"
    }
   },
   "outputs": [
    {
     "name": "stderr",
     "output_type": "stream",
     "text": [
      "100%|██████████| 500/500 [00:57<00:00,  8.66it/s]\n"
     ]
    }
   ],
   "source": [
    "hList = np.geomspace(1E-27, 1E-24, 300)\n",
    "dfdlogh = np.zeros(hList.shape)\n",
    "\n",
    "fMList = dndM(MList)\n",
    "\n",
    "for i_h, hVal in enumerate(tqdm(hList)):    \n",
    "\n",
    "    dfdlogh[i_h] = get_dfdlogh(hVal, hTilde, fMList)"
   ]
  },
  {
   "cell_type": "code",
   "execution_count": 15,
   "metadata": {
    "execution": {
     "iopub.execute_input": "2024-03-15T20:16:00.927985Z",
     "iopub.status.busy": "2024-03-15T20:16:00.926959Z",
     "iopub.status.idle": "2024-03-15T20:16:00.941777Z",
     "shell.execute_reply": "2024-03-15T20:16:00.940672Z",
     "shell.execute_reply.started": "2024-03-15T20:16:00.927929Z"
    }
   },
   "outputs": [
    {
     "data": {
      "text/plain": [
       "3.7010164709908415"
      ]
     },
     "execution_count": 15,
     "metadata": {},
     "output_type": "execute_result"
    }
   ],
   "source": [
    "hUL = 2E-26\n",
    "\n",
    "Ntot = 3000\n",
    "selh = (hList > hUL)\n",
    "Ntot*np.trapz(dfdlogh[selh]/hList[selh], x=hList[selh])"
   ]
  },
  {
   "cell_type": "code",
   "execution_count": 17,
   "metadata": {
    "collapsed": true,
    "execution": {
     "iopub.execute_input": "2024-03-15T20:17:01.188609Z",
     "iopub.status.busy": "2024-03-15T20:17:01.187416Z",
     "iopub.status.idle": "2024-03-15T20:17:01.209727Z",
     "shell.execute_reply": "2024-03-15T20:17:01.208936Z",
     "shell.execute_reply.started": "2024-03-15T20:17:01.188532Z"
    },
    "jupyter": {
     "outputs_hidden": true
    }
   },
   "outputs": [
    {
     "data": {
      "text/plain": [
       "array([1.38793947e-01, 1.39828730e-01, 1.40714039e-01, 1.41847818e-01,\n",
       "       1.42724281e-01, 1.43726511e-01, 1.44777558e-01, 1.45736809e-01,\n",
       "       1.46927992e-01, 1.47715064e-01, 1.48866255e-01, 1.49722576e-01,\n",
       "       1.50895692e-01, 1.51869176e-01, 1.53158704e-01, 1.54274055e-01,\n",
       "       1.55495401e-01, 1.56752410e-01, 1.57865897e-01, 1.59203921e-01,\n",
       "       1.60201604e-01, 1.61672560e-01, 1.62827412e-01, 1.64096970e-01,\n",
       "       1.65547154e-01, 1.66895514e-01, 1.68379740e-01, 1.69744599e-01,\n",
       "       1.71087478e-01, 1.72619670e-01, 1.73972536e-01, 1.75616298e-01,\n",
       "       1.76991635e-01, 1.78579791e-01, 1.80134327e-01, 1.81624179e-01,\n",
       "       1.83277205e-01, 1.84861635e-01, 1.86573723e-01, 1.88195326e-01,\n",
       "       1.89901999e-01, 1.91635810e-01, 1.93395234e-01, 1.95070262e-01,\n",
       "       1.96824664e-01, 1.98652102e-01, 2.00496853e-01, 2.02270395e-01,\n",
       "       2.04212176e-01, 2.06025997e-01, 2.07929253e-01, 2.09955321e-01,\n",
       "       2.11777240e-01, 2.13939144e-01, 2.15845117e-01, 2.17982622e-01,\n",
       "       2.19992918e-01, 2.22037415e-01, 2.24052193e-01, 2.26134856e-01,\n",
       "       2.28170161e-01, 2.30306552e-01, 2.32549616e-01, 2.34601983e-01,\n",
       "       2.36787784e-01, 2.39016497e-01, 2.41101081e-01, 2.43244666e-01,\n",
       "       2.45347667e-01, 2.47542726e-01, 2.49824831e-01, 2.51747138e-01,\n",
       "       2.53927361e-01, 2.55981497e-01, 2.57993986e-01, 2.60016123e-01,\n",
       "       2.61836495e-01, 2.63619989e-01, 2.65460432e-01, 2.67032967e-01,\n",
       "       2.68503189e-01, 2.69847994e-01, 2.70971030e-01, 2.72029440e-01,\n",
       "       2.72829892e-01, 2.73245838e-01, 2.73327364e-01, 2.73276904e-01,\n",
       "       2.72857139e-01, 2.72247100e-01, 2.71473522e-01, 2.70327440e-01,\n",
       "       2.68945704e-01, 2.67489834e-01, 2.65871442e-01, 2.63932164e-01,\n",
       "       2.62089378e-01, 2.59986604e-01, 2.57684906e-01, 2.55371230e-01,\n",
       "       2.52918587e-01, 2.50497546e-01, 2.47815028e-01, 2.45038031e-01,\n",
       "       2.42420646e-01, 2.39688757e-01, 2.36814977e-01, 2.33831735e-01,\n",
       "       2.30859601e-01, 2.27946509e-01, 2.24942132e-01, 2.21929474e-01,\n",
       "       2.18877878e-01, 2.15813059e-01, 2.12718048e-01, 2.09670364e-01,\n",
       "       2.06614669e-01, 2.03469729e-01, 2.00404909e-01, 1.97400339e-01,\n",
       "       1.94340668e-01, 1.91304367e-01, 1.88212848e-01, 1.85263700e-01,\n",
       "       1.82207076e-01, 1.79276509e-01, 1.76271575e-01, 1.73360165e-01,\n",
       "       1.70425817e-01, 1.67519851e-01, 1.64638942e-01, 1.61803318e-01,\n",
       "       1.58993449e-01, 1.56257122e-01, 1.53483391e-01, 1.50749112e-01,\n",
       "       1.48076643e-01, 1.45334288e-01, 1.42784348e-01, 1.40141996e-01,\n",
       "       1.37563989e-01, 1.35050145e-01, 1.32536646e-01, 1.30058099e-01,\n",
       "       1.27597171e-01, 1.25172234e-01, 1.22801796e-01, 1.20453512e-01,\n",
       "       1.18180284e-01, 1.15868572e-01, 1.13666240e-01, 1.11397114e-01,\n",
       "       1.09233975e-01, 1.07082595e-01, 1.04967967e-01, 1.02911591e-01,\n",
       "       1.00837308e-01, 9.87970514e-02, 9.68170120e-02, 9.48639109e-02,\n",
       "       9.29601878e-02, 9.10347029e-02, 8.91522044e-02, 8.73434590e-02,\n",
       "       8.55208972e-02, 8.37314256e-02, 8.19920256e-02, 8.02705457e-02,\n",
       "       7.85693378e-02, 7.69089313e-02, 7.52584222e-02, 7.36482974e-02,\n",
       "       7.20547054e-02, 7.04979273e-02, 6.89501744e-02, 6.74623171e-02,\n",
       "       6.59745078e-02, 6.45116289e-02, 6.30866707e-02, 6.16672567e-02,\n",
       "       6.02816007e-02, 5.89151643e-02, 5.75825852e-02, 5.62596654e-02,\n",
       "       5.49711062e-02, 5.37075020e-02, 5.24563418e-02, 5.12140064e-02,\n",
       "       5.00100809e-02, 4.88258950e-02, 4.76685123e-02, 4.65154557e-02,\n",
       "       4.53789596e-02, 4.42707971e-02, 4.31934916e-02, 4.21287027e-02,\n",
       "       4.10730303e-02, 4.00422379e-02, 3.90283655e-02, 3.80315268e-02,\n",
       "       3.70569800e-02, 3.60978855e-02, 3.51488183e-02, 3.42216039e-02,\n",
       "       3.33196331e-02, 3.24189752e-02, 3.15423579e-02, 3.06870258e-02,\n",
       "       2.98448241e-02, 2.90149086e-02, 2.82107965e-02, 2.74218875e-02,\n",
       "       2.66509769e-02, 2.58975745e-02, 2.51564870e-02, 2.44396226e-02,\n",
       "       2.37277932e-02, 2.30444214e-02, 2.23768421e-02, 2.17230764e-02,\n",
       "       2.10853348e-02, 2.04616645e-02, 1.98546480e-02, 1.92637240e-02,\n",
       "       1.86869982e-02, 1.81282397e-02, 1.75819945e-02, 1.70537863e-02,\n",
       "       1.65352385e-02, 1.60318054e-02, 1.55450236e-02, 1.50651560e-02,\n",
       "       1.46056252e-02, 1.41545379e-02, 1.37166223e-02, 1.32922915e-02,\n",
       "       1.28797254e-02, 1.24803431e-02, 1.20892391e-02, 1.17092786e-02,\n",
       "       1.13422051e-02, 1.09870662e-02, 1.06403235e-02, 1.03055524e-02,\n",
       "       9.97901470e-03, 9.66215355e-03, 9.35522219e-03, 9.05748647e-03,\n",
       "       8.76812593e-03, 8.48822664e-03, 8.21704539e-03, 7.95271906e-03,\n",
       "       7.69692320e-03, 7.44837615e-03, 7.20858479e-03, 6.97665849e-03,\n",
       "       6.75019987e-03, 6.53161871e-03, 6.32046525e-03, 6.11479688e-03,\n",
       "       5.91461537e-03, 5.72362323e-03, 5.53638386e-03, 5.35425268e-03,\n",
       "       5.17932921e-03, 5.00981941e-03, 4.84581038e-03, 4.68623787e-03,\n",
       "       4.53285006e-03, 4.38417678e-03, 4.23912661e-03, 4.09899616e-03,\n",
       "       3.96374831e-03, 3.83324731e-03, 3.70678122e-03, 3.58315522e-03,\n",
       "       3.46473396e-03, 3.34909314e-03, 3.23834287e-03, 3.13029744e-03,\n",
       "       3.02680719e-03, 2.92630915e-03, 2.82868670e-03, 2.73407560e-03,\n",
       "       2.64320419e-03, 2.55460678e-03, 2.46916258e-03, 2.38679229e-03,\n",
       "       2.30669989e-03, 2.22957367e-03, 2.15437400e-03, 2.08252894e-03,\n",
       "       2.01256246e-03, 1.94545154e-03, 1.87964077e-03, 1.81634509e-03,\n",
       "       1.75510000e-03, 1.69622750e-03, 1.63929999e-03, 1.58378369e-03,\n",
       "       1.53058695e-03, 1.47884917e-03, 1.42906866e-03, 1.38052485e-03,\n",
       "       1.33389331e-03, 1.28891570e-03, 1.24529801e-03, 1.20294929e-03,\n",
       "       1.16240166e-03, 1.12287209e-03, 1.08492977e-03, 1.04809890e-03,\n",
       "       1.01265455e-03, 9.78385425e-04, 9.44987913e-04, 9.13029383e-04,\n",
       "       8.81967380e-04, 8.51844992e-04, 8.22858081e-04, 7.94890720e-04,\n",
       "       7.67875705e-04, 7.41742237e-04, 7.16459224e-04, 6.92024138e-04,\n",
       "       6.68449666e-04, 6.45788462e-04, 6.23710173e-04, 6.02409789e-04,\n",
       "       5.81952668e-04, 5.62084395e-04, 5.42776186e-04, 5.24194215e-04,\n",
       "       5.06306616e-04, 4.89096171e-04, 4.72373672e-04, 4.56230714e-04,\n",
       "       4.40724914e-04, 4.25567213e-04, 4.10960788e-04, 3.96975382e-04,\n",
       "       3.83338500e-04, 3.70217229e-04, 3.57540354e-04, 3.45258864e-04,\n",
       "       3.33410937e-04, 3.21979873e-04, 3.10972478e-04, 3.00289494e-04,\n",
       "       2.89948527e-04, 2.79993064e-04, 2.70407169e-04, 2.61172702e-04,\n",
       "       2.52165227e-04, 2.43534306e-04, 2.35136592e-04, 2.27068446e-04,\n",
       "       2.19279629e-04, 2.11743042e-04, 2.04451059e-04, 1.97426666e-04,\n",
       "       1.90640203e-04, 1.84068361e-04, 1.77789144e-04, 1.71634576e-04,\n",
       "       1.65717853e-04, 1.60032453e-04, 1.54512853e-04, 1.49225892e-04,\n",
       "       1.44079568e-04, 1.39135464e-04, 1.34305877e-04, 1.29703240e-04,\n",
       "       1.25228610e-04, 1.20903943e-04, 1.16730131e-04, 1.12724358e-04,\n",
       "       1.08853029e-04, 1.05081990e-04, 1.01462774e-04, 9.79580779e-05,\n",
       "       9.45629398e-05, 9.13294227e-05, 8.81790776e-05, 8.51180851e-05,\n",
       "       8.21650424e-05, 7.93661718e-05, 7.66162336e-05, 7.39725612e-05,\n",
       "       7.14185531e-05, 6.89435668e-05, 6.65750393e-05, 6.42475733e-05,\n",
       "       6.20398097e-05, 5.99080290e-05, 5.78371443e-05, 5.58295830e-05,\n",
       "       5.39123211e-05, 5.20503013e-05, 5.02455351e-05, 4.85055813e-05,\n",
       "       4.68278697e-05, 4.52076334e-05, 4.36429114e-05, 4.21386365e-05,\n",
       "       4.06794318e-05, 3.92700778e-05, 3.79127271e-05, 3.66039928e-05,\n",
       "       3.53394565e-05, 3.41146421e-05, 3.29334467e-05, 3.17870077e-05,\n",
       "       3.06940368e-05, 2.96244922e-05, 2.86048863e-05, 2.76101752e-05,\n",
       "       2.66563277e-05, 2.57333099e-05, 2.48403267e-05, 2.39822708e-05,\n",
       "       2.31496235e-05, 2.23465743e-05, 2.15731386e-05, 2.08243589e-05,\n",
       "       2.01009604e-05, 1.94039973e-05, 1.87335860e-05, 1.80827071e-05,\n",
       "       1.74534243e-05, 1.68544781e-05, 1.62699856e-05, 1.57072742e-05,\n",
       "       1.51597252e-05, 1.46313967e-05, 1.41237751e-05, 1.36334562e-05,\n",
       "       1.31633969e-05, 1.27022083e-05, 1.22628859e-05, 1.18382925e-05,\n",
       "       1.14231623e-05, 1.10314354e-05, 1.06469704e-05, 1.02798037e-05,\n",
       "       9.92234382e-06, 9.57530807e-06, 9.24673964e-06, 8.92404712e-06,\n",
       "       8.61375735e-06, 8.31468786e-06, 8.02490952e-06, 7.74651077e-06,\n",
       "       7.47697020e-06, 7.21664911e-06, 6.96554073e-06, 6.72276141e-06,\n",
       "       6.49043559e-06, 6.26447683e-06, 6.04713779e-06, 5.83620483e-06,\n",
       "       5.63276718e-06, 5.43823424e-06, 5.24774920e-06, 5.06547089e-06,\n",
       "       4.88931153e-06, 4.71938177e-06, 4.55605176e-06, 4.39669212e-06,\n",
       "       4.24252115e-06, 4.09621862e-06, 3.95277210e-06, 3.81547845e-06,\n",
       "       3.68310221e-06, 3.55435048e-06, 3.42921804e-06, 3.31104662e-06,\n",
       "       3.19529550e-06, 3.08467821e-06, 2.97670076e-06, 2.87316119e-06,\n",
       "       2.77288343e-06, 2.67650929e-06, 2.58300087e-06, 2.49306472e-06,\n",
       "       2.40611231e-06, 2.32217658e-06, 2.24118973e-06, 2.16244779e-06,\n",
       "       2.08757718e-06, 2.01432616e-06, 1.94423898e-06, 1.87609725e-06,\n",
       "       1.81092043e-06, 1.74758955e-06, 1.68701411e-06, 1.62776773e-06,\n",
       "       1.57101728e-06, 1.51605986e-06, 1.46311295e-06, 1.41190397e-06])"
      ]
     },
     "execution_count": 17,
     "metadata": {},
     "output_type": "execute_result"
    }
   ],
   "source": [
    "dfdlogh"
   ]
  },
  {
   "cell_type": "code",
   "execution_count": 16,
   "metadata": {
    "execution": {
     "iopub.execute_input": "2024-03-15T20:16:08.622225Z",
     "iopub.status.busy": "2024-03-15T20:16:08.621881Z",
     "iopub.status.idle": "2024-03-15T20:16:10.177245Z",
     "shell.execute_reply": "2024-03-15T20:16:10.176850Z",
     "shell.execute_reply.started": "2024-03-15T20:16:08.622191Z"
    }
   },
   "outputs": [
    {
     "data": {
      "image/png": "[encoded data removed]",
      "text/plain": [
       "<Figure size 700x500 with 1 Axes>"
      ]
     },
     "metadata": {},
     "output_type": "display_data"
    }
   ],
   "source": [
    "fig, ax = plt.subplots(nrows=1, ncols=1, figsize=(7,5))\n",
    "colorlist =  ['darkslateblue', 'darkred', 'orangered', 'green'] #['teal', 'orange', 'indianred']\n",
    "liestyle_list = ['solid', 'dashed', 'dashdot']\n",
    "font_s=16\n",
    "hUL = 2E-26\n",
    "\n",
    "Ntot = 3000\n",
    "\n",
    "selh = (hList > hUL)\n",
    "Nev = Ntot*np.trapz(dfdlogh[selh]/hList[selh], x=hList[selh])\n",
    "\n",
    "ax.plot(hList, Ntot*dfdlogh)\n",
    "ax.set_xscale('log'); ax.set_yscale('log')\n",
    "ax.set_xlabel(r'h', fontsize=font_s); ax.set_ylabel(r'$dN/d\\log h$', fontsize=font_s); \n",
    "ax.set_title('Number of events per unit strain, $f_{GW} = $'+str(df_pulsars['F_GW'].iloc[p_ind])+' Hz', fontsize=font_s);\n",
    "ax.text(5E-26, 5E2, r'$N_{\\mathrm{tot}} =$'+str(Ntot))\n",
    "ax.text(5E-26, 2E2, r'$N_{\\mathrm{ev}}(h > h_{\\mathrm{UL}}) =$'+str(round(Nev, 3)))\n",
    "ax.axvline(x=hUL, linewidth=1, c='k', alpha=0.8)\n",
    "ax.set_ylim(0.01,1000)\n",
    "ax.grid()\n",
    "\n",
    "fig.tight_layout()\n",
    "#fig.savefig('figs/dndlogh.pdf', bbox_inches=\"tight\")"
   ]
  },
  {
   "cell_type": "code",
   "execution_count": 87,
   "metadata": {
    "execution": {
     "iopub.execute_input": "2024-03-15T17:51:47.753720Z",
     "iopub.status.busy": "2024-03-15T17:51:47.753221Z",
     "iopub.status.idle": "2024-03-15T17:51:48.603163Z",
     "shell.execute_reply": "2024-03-15T17:51:48.602779Z",
     "shell.execute_reply.started": "2024-03-15T17:51:47.753631Z"
    }
   },
   "outputs": [
    {
     "data": {
      "text/plain": [
       "<matplotlib.lines.Line2D at 0x7feee83f0970>"
      ]
     },
     "execution_count": 87,
     "metadata": {},
     "output_type": "execute_result"
    },
    {
     "data": {
      "image/png": "[encoded data removed]",
      "text/plain": [
       "<Figure size 700x500 with 1 Axes>"
      ]
     },
     "metadata": {},
     "output_type": "display_data"
    }
   ],
   "source": [
    "fig, ax = plt.subplots(nrows=1, ncols=1, figsize=(7,5))\n",
    "colorlist =  ['darkslateblue', 'darkred', 'orangered', 'green'] #['teal', 'orange', 'indianred']\n",
    "liestyle_list = ['solid', 'dashed', 'dashdot']\n",
    "font_s=16\n",
    "hUL = 2E-25\n",
    "\n",
    "Ntot = 1E8\n",
    "\n",
    "selh = (hList > hUL)\n",
    "Nev = Ntot*np.trapz(dfdlogh[selh]/hList[selh], x=hList[selh])\n",
    "\n",
    "ax.plot(hList, Ntot*dfdlogh)\n",
    "ax.set_xscale('log'); ax.set_yscale('log')\n",
    "ax.set_xlabel(r'h', fontsize=font_s); ax.set_ylabel(r'$dN/d\\log h$', fontsize=font_s); \n",
    "ax.set_title('Number of events per unit strain, $f_{GW} = $'+str(freq_GW)+' Hz', fontsize=font_s);\n",
    "ax.text(5E-26, 5E2, r'$N_{\\mathrm{ev}}(h > h_{\\mathrm{UL}}) =$'+str(round(Nev, 3)))\n",
    "ax.text(5E-26, 2E2, r'$N_{\\mathrm{tot}} =$'+str(Ntot))\n",
    "ax.axvline(x=hUL, linewidth=1, c='k', alpha=0.5)"
   ]
  },
  {
   "cell_type": "code",
   "execution_count": 88,
   "metadata": {
    "execution": {
     "iopub.execute_input": "2024-03-15T17:51:51.691041Z",
     "iopub.status.busy": "2024-03-15T17:51:51.690581Z",
     "iopub.status.idle": "2024-03-15T17:51:51.705604Z",
     "shell.execute_reply": "2024-03-15T17:51:51.704252Z",
     "shell.execute_reply.started": "2024-03-15T17:51:51.690998Z"
    }
   },
   "outputs": [],
   "source": [
    "hUL_list = np.geomspace(1E-27, 1E-24, 100)\n",
    "\n",
    "Nev_List = np.zeros(len(hUL_list))\n",
    "Ntot = 3000\n",
    "\n",
    "for i, hUL in enumerate(hUL_list):\n",
    "    selh = (hList > hUL)\n",
    "    Nev_List[i] = Ntot*np.trapz(dfdlogh[selh]/hList[selh], x=hList[selh])"
   ]
  },
  {
   "cell_type": "code",
   "execution_count": 89,
   "metadata": {
    "execution": {
     "iopub.execute_input": "2024-03-15T17:51:53.788991Z",
     "iopub.status.busy": "2024-03-15T17:51:53.788618Z",
     "iopub.status.idle": "2024-03-15T17:51:54.865426Z",
     "shell.execute_reply": "2024-03-15T17:51:54.864967Z",
     "shell.execute_reply.started": "2024-03-15T17:51:53.788957Z"
    }
   },
   "outputs": [
    {
     "data": {
      "image/png": "[encoded data removed]",
      "text/plain": [
       "<Figure size 700x500 with 1 Axes>"
      ]
     },
     "metadata": {},
     "output_type": "display_data"
    }
   ],
   "source": [
    "fig, ax = plt.subplots(nrows=1, ncols=1, figsize=(7,5))\n",
    "colorlist =  ['darkslateblue', 'darkred', 'orangered', 'green'] #['teal', 'orange', 'indianred']\n",
    "liestyle_list = ['solid', 'dashed', 'dashdot']\n",
    "font_s=16\n",
    "\n",
    "#ax.plot(hUL_list, Nev_List, marker='.')\n",
    "ax.plot(hUL_list, Nev_List)\n",
    "ax.set_xscale('log'); ax.set_yscale('log')\n",
    "ax.set_xlabel(r'$h_{\\mathrm{UL}}$', fontsize=font_s); ax.set_ylabel(r'$N_{\\mathrm{ev}}(h>h_{\\mathrm{UL}})$', fontsize=font_s); \n",
    "ax.set_title('Number of events above the UL, $f_{GW} = $'+str(freq_GW)+' Hz', fontsize=font_s);\n",
    "ax.text(2E-25, 3E2, r'$N_{\\mathrm{tot}} =$'+str(Ntot))\n",
    "#ax.text(5E-26, 2E2, r'$N_{\\mathrm{ev}}(h > h_{\\mathrm{UL}}) =$'+str(round(Nev, 3)))\n",
    "#ax.axvline(x=hUL, linewidth=1, c='k', alpha=0.5)\n",
    "#ax.set_ylim(0.1,2000)\n",
    "ax.grid()\n",
    "\n",
    "fig.tight_layout()\n",
    "fig.savefig('figs/NaboveUL.pdf', bbox_inches=\"tight\")"
   ]
  },
  {
   "cell_type": "markdown",
   "metadata": {},
   "source": [
    "### Result for multiple pulsars"
   ]
  },
  {
   "cell_type": "code",
   "execution_count": 23,
   "metadata": {
    "execution": {
     "iopub.execute_input": "2024-03-15T20:23:23.906680Z",
     "iopub.status.busy": "2024-03-15T20:23:23.906314Z",
     "iopub.status.idle": "2024-03-15T20:23:23.915437Z",
     "shell.execute_reply": "2024-03-15T20:23:23.914358Z",
     "shell.execute_reply.started": "2024-03-15T20:23:23.906646Z"
    }
   },
   "outputs": [
    {
     "data": {
      "text/plain": [
       "array([0, 1, 2, 3, 4])"
      ]
     },
     "execution_count": 23,
     "metadata": {},
     "output_type": "execute_result"
    }
   ],
   "source": [
    "np.arange(5)"
   ]
  },
  {
   "cell_type": "code",
   "execution_count": 24,
   "metadata": {
    "execution": {
     "iopub.execute_input": "2024-03-15T20:23:26.139378Z",
     "iopub.status.busy": "2024-03-15T20:23:26.139020Z",
     "iopub.status.idle": "2024-03-15T20:35:45.937796Z",
     "shell.execute_reply": "2024-03-15T20:35:45.937275Z",
     "shell.execute_reply.started": "2024-03-15T20:23:26.139344Z"
    }
   },
   "outputs": [
    {
     "name": "stderr",
     "output_type": "stream",
     "text": [
      "100%|██████████| 100/100 [02:03<00:00,  1.23s/it]\n",
      "100%|██████████| 300/300 [00:34<00:00,  8.58it/s]\n",
      "100%|██████████| 100/100 [01:56<00:00,  1.16s/it]\n",
      "100%|██████████| 300/300 [00:33<00:00,  8.95it/s]\n",
      "100%|██████████| 100/100 [01:51<00:00,  1.12s/it]\n",
      "100%|██████████| 300/300 [00:33<00:00,  9.03it/s]\n",
      "100%|██████████| 100/100 [01:50<00:00,  1.11s/it]\n",
      "100%|██████████| 300/300 [00:33<00:00,  9.01it/s]\n",
      "100%|██████████| 100/100 [01:50<00:00,  1.10s/it]\n",
      "100%|██████████| 300/300 [00:32<00:00,  9.10it/s]\n"
     ]
    }
   ],
   "source": [
    "ipList = np.arange(5)\n",
    "hList = np.geomspace(1E-27, 1E-24, 300)\n",
    "dfdlogh_ip = np.zeros((len(ipList), len(hList)))\n",
    "\n",
    "for ip in ipList:\n",
    "    dfdlogh_ip[ip] = get_dfdlogh_ip(hList, p_ind=ip)"
   ]
  },
  {
   "cell_type": "code",
   "execution_count": 63,
   "metadata": {
    "execution": {
     "iopub.execute_input": "2024-03-15T20:52:00.353430Z",
     "iopub.status.busy": "2024-03-15T20:52:00.353083Z",
     "iopub.status.idle": "2024-03-15T20:52:01.301320Z",
     "shell.execute_reply": "2024-03-15T20:52:01.300923Z",
     "shell.execute_reply.started": "2024-03-15T20:52:00.353395Z"
    }
   },
   "outputs": [
    {
     "data": {
      "image/png": "[encoded data removed]",
      "text/plain": [
       "<Figure size 700x500 with 1 Axes>"
      ]
     },
     "metadata": {},
     "output_type": "display_data"
    }
   ],
   "source": [
    "fig, ax = plt.subplots(nrows=1, ncols=1, figsize=(7,5))\n",
    "colorlist =  ['darkslateblue', 'darkred', 'orangered', 'green', 'teal'] #['teal', 'orange', 'indianred']\n",
    "liestyle_list = ['solid', 'dashed', 'dashdot']\n",
    "font_s=16\n",
    "\n",
    "Ntot = 3000\n",
    "\n",
    "#selh = (hList > hUL)\n",
    "#Nev = Ntot*np.trapz(dfdlogh[selh]/hList[selh], x=hList[selh])\n",
    "\n",
    "for ip in ipList:\n",
    "    line,=ax.plot(hList, Ntot*dfdlogh_ip[ip], label=str(round(df_pulsars['F_GW'].iloc[ip], 1))+' Hz')\n",
    "    ax.axvline(x=df_pulsars['upper limits'].iloc[ip], linewidth=1, alpha=0.8, c=line.get_color())\n",
    "\n",
    "ax.set_xscale('log'); ax.set_yscale('log')\n",
    "ax.set_xlabel(r'h', fontsize=font_s); ax.set_ylabel(r'$dN/d\\log h$', fontsize=font_s); \n",
    "ax.set_title('Number of events per unit strain, $N_{\\mathrm{tot}} =$ '+str(Ntot), fontsize=font_s);\n",
    "ax.legend(title='$f_{GW}$')\n",
    "ax.set_ylim(0.01,1000)\n",
    "ax.grid()\n",
    "\n",
    "fig.tight_layout()\n",
    "fig.savefig('figs/dndlogh_pulsars.pdf', bbox_inches=\"tight\")"
   ]
  },
  {
   "cell_type": "code",
   "execution_count": 46,
   "metadata": {
    "execution": {
     "iopub.execute_input": "2024-03-15T20:46:13.973013Z",
     "iopub.status.busy": "2024-03-15T20:46:13.972478Z",
     "iopub.status.idle": "2024-03-15T20:46:13.988849Z",
     "shell.execute_reply": "2024-03-15T20:46:13.987285Z",
     "shell.execute_reply.started": "2024-03-15T20:46:13.972977Z"
    }
   },
   "outputs": [],
   "source": [
    "Nev_above_th = np.zeros((len(ipList), 2))\n",
    "Ntot = 3000\n",
    "\n",
    "for ip in ipList:\n",
    "    hUL = df_pulsars['upper limits'].iloc[ip]\n",
    "    Nev_above_th[ip, 0] = df_pulsars['F_GW'].iloc[ip]\n",
    "    \n",
    "    selh = (hList > hUL)\n",
    "    Nev_above_th[ip, 1] = Ntot*np.trapz(dfdlogh_ip[ip][selh]/hList[selh], x=hList[selh])"
   ]
  },
  {
   "cell_type": "code",
   "execution_count": 47,
   "metadata": {
    "execution": {
     "iopub.execute_input": "2024-03-15T20:46:14.794032Z",
     "iopub.status.busy": "2024-03-15T20:46:14.793655Z",
     "iopub.status.idle": "2024-03-15T20:46:14.802831Z",
     "shell.execute_reply": "2024-03-15T20:46:14.801217Z",
     "shell.execute_reply.started": "2024-03-15T20:46:14.793998Z"
    }
   },
   "outputs": [
    {
     "data": {
      "text/plain": [
       "array([[113.076026  ,   2.24134932],\n",
       "       [192.72447   ,   7.15909379],\n",
       "       [239.297466  ,   7.29607017],\n",
       "       [256.410256  ,   6.95778353],\n",
       "       [256.410256  ,   7.07009928]])"
      ]
     },
     "execution_count": 47,
     "metadata": {},
     "output_type": "execute_result"
    }
   ],
   "source": [
    "Nev_above_th"
   ]
  },
  {
   "cell_type": "code",
   "execution_count": 62,
   "metadata": {
    "execution": {
     "iopub.execute_input": "2024-03-15T20:51:49.982869Z",
     "iopub.status.busy": "2024-03-15T20:51:49.982520Z",
     "iopub.status.idle": "2024-03-15T20:51:50.666078Z",
     "shell.execute_reply": "2024-03-15T20:51:50.665660Z",
     "shell.execute_reply.started": "2024-03-15T20:51:49.982834Z"
    }
   },
   "outputs": [
    {
     "data": {
      "image/png": "[encoded data removed]",
      "text/plain": [
       "<Figure size 700x500 with 1 Axes>"
      ]
     },
     "metadata": {},
     "output_type": "display_data"
    }
   ],
   "source": [
    "fig, ax = plt.subplots(nrows=1, ncols=1, figsize=(7,5))\n",
    "colorlist =  ['darkslateblue', 'darkred', 'orangered', 'green'] #['teal', 'orange', 'indianred']\n",
    "liestyle_list = ['solid', 'dashed', 'dashdot']\n",
    "font_s=16\n",
    "\n",
    "ax.plot(Nev_above_th[:4, 0], Nev_above_th[:4, 1], 's', marker='o')\n",
    "\n",
    "ax.set_title('N events above UL for different pulsars, $N_{\\mathrm{tot}} =$ '+str(Ntot),fontsize=font_s);\n",
    "ax.set_xlabel(r'$f_{\\mathrm{GW}}$ [Hz]', fontsize=font_s); ax.set_ylabel(r'$N_{\\mathrm{ev}}(h>h_{\\mathrm{UL}})$', fontsize=font_s); \n",
    "#ax.grid()\n",
    "ax.set_xlim(100,300); ax.set_ylim(0,10)\n",
    "\n",
    "fig.tight_layout()\n",
    "fig.savefig('figs/Nexpected.pdf', bbox_inches=\"tight\")"
   ]
  },
  {
   "cell_type": "markdown",
   "metadata": {
    "heading_collapsed": "true"
   },
   "source": [
    "## Plots"
   ]
  },
  {
   "cell_type": "code",
   "execution_count": 8,
   "metadata": {
    "execution": {
     "iopub.execute_input": "2024-03-15T20:11:53.802538Z",
     "iopub.status.busy": "2024-03-15T20:11:53.802141Z",
     "iopub.status.idle": "2024-03-15T20:11:55.116313Z",
     "shell.execute_reply": "2024-03-15T20:11:55.115905Z",
     "shell.execute_reply.started": "2024-03-15T20:11:53.802505Z"
    }
   },
   "outputs": [
    {
     "name": "stdout",
     "output_type": "stream",
     "text": [
      "Normalization =  1.0002145481580622\n"
     ]
    },
    {
     "data": {
      "image/png": "[encoded data removed]",
      "text/plain": [
       "<Figure size 700x500 with 1 Axes>"
      ]
     },
     "metadata": {},
     "output_type": "display_data"
    }
   ],
   "source": [
    "### BH mass distributon\n",
    "\n",
    "fig, ax = plt.subplots(nrows=1, ncols=1, figsize=(7,5))\n",
    "font_s=16\n",
    "\n",
    "MList = np.geomspace(Mmin, Mmax, 100) #np.arange(Mmin, Mmax, 0.2)\n",
    "print('Normalization = ', str(np.trapz(dndM(MList), x=MList)))\n",
    "\n",
    "ax.plot(MList, dndM(MList))\n",
    "ax.set_xscale('log'); ax.set_yscale('log')\n",
    "ax.set_xlabel(r'$M [M_{\\odot}]$', fontsize=font_s)\n",
    "ax.set_ylabel(r'$dn/dM$', fontsize=font_s);"
   ]
  },
  {
   "cell_type": "code",
   "execution_count": 27,
   "metadata": {
    "execution": {
     "iopub.execute_input": "2024-03-15T19:18:43.751714Z",
     "iopub.status.busy": "2024-03-15T19:18:43.751240Z",
     "iopub.status.idle": "2024-03-15T19:18:45.385173Z",
     "shell.execute_reply": "2024-03-15T19:18:45.384756Z",
     "shell.execute_reply.started": "2024-03-15T19:18:43.751675Z"
    }
   },
   "outputs": [
    {
     "data": {
      "image/png": "[encoded data removed]",
      "text/plain": [
       "<Figure size 1400x500 with 2 Axes>"
      ]
     },
     "metadata": {},
     "output_type": "display_data"
    }
   ],
   "source": [
    "### Check the computed strains hTilde for a few valaues of M and a\n",
    "\n",
    "fig, ax = plt.subplots(nrows=1, ncols=2, figsize=(14,5))\n",
    "colorlist =  ['darkslateblue', 'darkred', 'orangered', 'green'] #['teal', 'orange', 'indianred']\n",
    "liestyle_list = ['solid', 'dashed', 'dashdot']\n",
    "font_s=16\n",
    "sub_im = np.array([3, 56, 98])\n",
    "i_a = 78\n",
    "\n",
    "mu = np.pi*df_pulsars['F_GW'].iloc[p_ind]*Hz\n",
    "\n",
    "for i in sub_im:\n",
    "    ax[0].plot(tGrid[i, i_a, :], hTilde[i, i_a, :], label=r'$M = $'+str(MList[i])[:4]+'$\\ M_{\\odot}$')\n",
    "    \n",
    "i_m = 52\n",
    "sub_ia = np.array([51, 73, 89])\n",
    "\n",
    "for i in sub_ia:\n",
    "    ax[1].plot(tGrid[i_m, i, :], hTilde[i_m, i, :], label=r'a = '+str(aList[i])[:4])\n",
    "\n",
    "ax[0].set_title(r'a = '+str(aList[i_a])[:4]+', $\\mu = $'+str(mu/eV/1e-13)[:3]+'x$10^{-13}$ eV', fontsize=font_s);\n",
    "ax[1].set_title(r'$M = $'+str(MList[i_m])[:4]+'$\\ M_{\\odot}$, $\\mu = $'+str(mu/eV/1e-13)[:3]+'x$10^{-13}$ eV', fontsize=font_s);\n",
    "\n",
    "for i in range(2):\n",
    "    ax[i].set_xscale('log'); ax[i].set_yscale('log')\n",
    "    ax[i].set_xlabel(r'$t/t_{\\mathrm{MW}}$', fontsize=font_s)\n",
    "    ax[0].set_ylabel(r'$h(t, d=20 kpc)$', fontsize=font_s);\n",
    "    ax[i].legend()"
   ]
  },
  {
   "cell_type": "code",
   "execution_count": null,
   "metadata": {},
   "outputs": [],
   "source": []
  },
  {
   "cell_type": "markdown",
   "metadata": {
    "heading_collapsed": "true"
   },
   "source": [
    "# Tests"
   ]
  },
  {
   "cell_type": "code",
   "execution_count": 3,
   "metadata": {
    "execution": {
     "iopub.execute_input": "2024-03-08T16:40:02.518796Z",
     "iopub.status.busy": "2024-03-08T16:40:02.518420Z",
     "iopub.status.idle": "2024-03-08T16:40:07.553938Z",
     "shell.execute_reply": "2024-03-08T16:40:07.553442Z",
     "shell.execute_reply.started": "2024-03-08T16:40:02.518759Z"
    }
   },
   "outputs": [],
   "source": [
    "bc = ub.UltralightBoson(spin=1, model=\"relativistic\") "
   ]
  },
  {
   "cell_type": "code",
   "execution_count": 4,
   "metadata": {
    "execution": {
     "iopub.execute_input": "2024-03-08T16:40:23.014342Z",
     "iopub.status.busy": "2024-03-08T16:40:23.013389Z",
     "iopub.status.idle": "2024-03-08T16:40:23.034471Z",
     "shell.execute_reply": "2024-03-08T16:40:23.033570Z",
     "shell.execute_reply.started": "2024-03-08T16:40:23.014268Z"
    }
   },
   "outputs": [],
   "source": [
    "mbh = 10\n",
    "abh0 = 0.5\n",
    "alpha = 0.02\n",
    "\n",
    "wf = bc.make_waveform(mbh, abh0, alpha, units=\"physical+alpha\")\n",
    "\n",
    "if wf.azimuthal_num()==1:\n",
    "    tauGW = wf.gw_time()*Second"
   ]
  },
  {
   "cell_type": "code",
   "execution_count": 5,
   "metadata": {
    "execution": {
     "iopub.execute_input": "2024-03-08T16:40:24.435866Z",
     "iopub.status.busy": "2024-03-08T16:40:24.435473Z",
     "iopub.status.idle": "2024-03-08T16:40:24.449950Z",
     "shell.execute_reply": "2024-03-08T16:40:24.448748Z",
     "shell.execute_reply.started": "2024-03-08T16:40:24.435832Z"
    }
   },
   "outputs": [
    {
     "data": {
      "text/plain": [
       "(4.345572030927802, 2.84590924589311)"
      ]
     },
     "execution_count": 5,
     "metadata": {},
     "output_type": "execute_result"
    }
   ],
   "source": [
    "tauSR = wf.cloud_growth_time()\n",
    "tauGW = wf.gw_time()\n",
    "tauSR/1E9, tauGW/1e13"
   ]
  },
  {
   "cell_type": "code",
   "execution_count": 6,
   "metadata": {
    "execution": {
     "iopub.execute_input": "2024-03-08T16:40:25.223406Z",
     "iopub.status.busy": "2024-03-08T16:40:25.222908Z",
     "iopub.status.idle": "2024-03-08T16:40:25.233120Z",
     "shell.execute_reply": "2024-03-08T16:40:25.232192Z",
     "shell.execute_reply.started": "2024-03-08T16:40:25.223366Z"
    }
   },
   "outputs": [
    {
     "data": {
      "text/plain": [
       "4.5728003476743694e-24"
      ]
     },
     "execution_count": 6,
     "metadata": {},
     "output_type": "execute_result"
    }
   ],
   "source": [
    "wf.strain_char(-10, dObs=0.001) # distance in Mpc"
   ]
  },
  {
   "cell_type": "code",
   "execution_count": 7,
   "metadata": {
    "execution": {
     "iopub.execute_input": "2024-03-08T16:40:25.872876Z",
     "iopub.status.busy": "2024-03-08T16:40:25.872417Z",
     "iopub.status.idle": "2024-03-08T16:40:25.881161Z",
     "shell.execute_reply": "2024-03-08T16:40:25.880180Z",
     "shell.execute_reply.started": "2024-03-08T16:40:25.872841Z"
    }
   },
   "outputs": [
    {
     "data": {
      "text/plain": [
       "6.532471187190322e-42"
      ]
     },
     "execution_count": 7,
     "metadata": {},
     "output_type": "execute_result"
    }
   ],
   "source": [
    "wf.strain_char(-1E9, dObs=0.001)"
   ]
  },
  {
   "cell_type": "code",
   "execution_count": 8,
   "metadata": {
    "execution": {
     "iopub.execute_input": "2024-03-08T16:40:26.722619Z",
     "iopub.status.busy": "2024-03-08T16:40:26.722139Z",
     "iopub.status.idle": "2024-03-08T16:40:26.738319Z",
     "shell.execute_reply": "2024-03-08T16:40:26.737429Z",
     "shell.execute_reply.started": "2024-03-08T16:40:26.722545Z"
    }
   },
   "outputs": [],
   "source": [
    "tList = np.geomspace(1E-5,1E7,100)*tauGW #np.concatenate([ np.sort(np.logspace(-9,0,50)*(-tauSR)), np.logspace(-13, 2, 200)*tauGW ] )  \n",
    "hList = wf.strain_char(tList, dObs=0.001)"
   ]
  },
  {
   "cell_type": "code",
   "execution_count": 10,
   "metadata": {
    "execution": {
     "iopub.execute_input": "2024-03-08T16:40:37.732917Z",
     "iopub.status.busy": "2024-03-08T16:40:37.732572Z",
     "iopub.status.idle": "2024-03-08T16:40:38.730905Z",
     "shell.execute_reply": "2024-03-08T16:40:38.730571Z",
     "shell.execute_reply.started": "2024-03-08T16:40:37.732882Z"
    }
   },
   "outputs": [
    {
     "data": {
      "image/png": "[encoded data removed]",
      "text/plain": [
       "<Figure size 700x500 with 1 Axes>"
      ]
     },
     "metadata": {},
     "output_type": "display_data"
    }
   ],
   "source": [
    "fig, ax = plt.subplots(nrows=1, ncols=1, figsize=(7,5))\n",
    "colorlist =  ['darkslateblue', 'darkred', 'orangered', 'green'] #['teal', 'orange', 'indianred']\n",
    "liestyle_list = ['solid', 'dashed', 'dashdot']\n",
    "\n",
    "#ax.plot((tList+tauSR)[1:], hList[1:])\n",
    "ax.plot(tList/tauGW, hList, marker='.')\n",
    "ax.set_xscale('log'); ax.set_yscale('log')\n",
    "ax.grid()"
   ]
  },
  {
   "cell_type": "code",
   "execution_count": null,
   "metadata": {},
   "outputs": [],
   "source": []
  },
  {
   "cell_type": "code",
   "execution_count": 10,
   "metadata": {
    "execution": {
     "iopub.execute_input": "2024-03-15T20:06:19.812265Z",
     "iopub.status.busy": "2024-03-15T20:06:19.811855Z",
     "iopub.status.idle": "2024-03-15T20:06:19.817890Z",
     "shell.execute_reply": "2024-03-15T20:06:19.817034Z",
     "shell.execute_reply.started": "2024-03-15T20:06:19.812231Z"
    }
   },
   "outputs": [],
   "source": [
    "def get_dfdlogh_diff(hVal, hTilde, fMList):\n",
    "    \n",
    "    thFnc = np.heaviside((hVal/hTilde-1), np.zeros(hTilde.shape))\n",
    "    integrand = 3*( (hTilde/hVal) )**3*thFnc*fMList[:,None,None]\n",
    "    \n",
    "    return integrand"
   ]
  },
  {
   "cell_type": "code",
   "execution_count": 15,
   "metadata": {
    "execution": {
     "iopub.execute_input": "2024-03-15T19:57:43.957937Z",
     "iopub.status.busy": "2024-03-15T19:57:43.957250Z",
     "iopub.status.idle": "2024-03-15T19:57:46.884856Z",
     "shell.execute_reply": "2024-03-15T19:57:46.884002Z",
     "shell.execute_reply.started": "2024-03-15T19:57:43.957863Z"
    }
   },
   "outputs": [
    {
     "name": "stdout",
     "output_type": "stream",
     "text": [
      "(100, 100, 100, 500) (100, 100, 100, 500)\n"
     ]
    }
   ],
   "source": [
    "hList = np.geomspace(1E-28, 1E-24, 100)\n",
    "\n",
    "hList_Grid = np.full((len(hList),len(MList), len(aList), tSteps), hList[:, np.newaxis, np.newaxis, np.newaxis])\n",
    "\n",
    "hTilde_Gridh = np.full((len(hList),len(MList), len(aList), tSteps), hTilde[np.newaxis, :, :, :])\n",
    "print(hList_Grid.shape, hTilde_Gridh.shape)"
   ]
  },
  {
   "cell_type": "code",
   "execution_count": 16,
   "metadata": {
    "execution": {
     "iopub.execute_input": "2024-03-15T19:57:47.700345Z",
     "iopub.status.busy": "2024-03-15T19:57:47.700094Z",
     "iopub.status.idle": "2024-03-15T19:57:47.758133Z",
     "shell.execute_reply": "2024-03-15T19:57:47.757784Z",
     "shell.execute_reply.started": "2024-03-15T19:57:47.700330Z"
    }
   },
   "outputs": [
    {
     "data": {
      "text/plain": [
       "(100,)"
      ]
     },
     "execution_count": 16,
     "metadata": {},
     "output_type": "execute_result"
    }
   ],
   "source": [
    "fMList = dndM(MList)\n",
    "fMList.shape"
   ]
  },
  {
   "cell_type": "code",
   "execution_count": 17,
   "metadata": {
    "execution": {
     "iopub.execute_input": "2024-03-15T19:58:09.218844Z",
     "iopub.status.busy": "2024-03-15T19:58:09.217449Z",
     "iopub.status.idle": "2024-03-15T19:59:06.465854Z",
     "shell.execute_reply": "2024-03-15T19:59:06.463932Z",
     "shell.execute_reply.started": "2024-03-15T19:58:09.218775Z"
    }
   },
   "outputs": [],
   "source": [
    "thFnc = np.heaviside((1-hTilde_Gridh/hList_Grid), np.zeros(hTilde_Gridh.shape))"
   ]
  },
  {
   "cell_type": "code",
   "execution_count": null,
   "metadata": {},
   "outputs": [],
   "source": [
    "thFnc.shape"
   ]
  }
 ],
 "metadata": {
  "kernelspec": {
   "display_name": "Python 3",
   "language": "python",
   "name": "python3"
  },
  "language_info": {
   "codemirror_mode": {
    "name": "ipython",
    "version": 3
   },
   "file_extension": ".py",
   "mimetype": "text/x-python",
   "name": "python",
   "nbconvert_exporter": "python",
   "pygments_lexer": "ipython3",
   "version": "3.8.5"
  }
 },
 "nbformat": 4,
 "nbformat_minor": 4
}
