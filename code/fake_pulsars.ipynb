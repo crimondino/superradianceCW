{
 "cells": [
  {
   "cell_type": "markdown",
   "metadata": {
    "execution": {
     "iopub.execute_input": "2022-10-26T19:29:17.215760Z",
     "iopub.status.busy": "2022-10-26T19:29:17.214615Z",
     "iopub.status.idle": "2022-10-26T19:29:17.227421Z",
     "shell.execute_reply": "2022-10-26T19:29:17.226747Z",
     "shell.execute_reply.started": "2022-10-26T19:29:17.215725Z"
    }
   },
   "source": [
    "# Preamble"
   ]
  },
  {
   "cell_type": "code",
   "execution_count": 1,
   "metadata": {
    "execution": {
     "iopub.execute_input": "2023-09-28T17:45:33.459177Z",
     "iopub.status.busy": "2023-09-28T17:45:33.458735Z",
     "iopub.status.idle": "2023-09-28T17:45:33.861016Z",
     "shell.execute_reply": "2023-09-28T17:45:33.860675Z",
     "shell.execute_reply.started": "2023-09-28T17:45:33.459075Z"
    }
   },
   "outputs": [],
   "source": [
    "import numpy as np\n",
    "import pandas as pd\n",
    "from tqdm import tqdm\n",
    "#from scipy.interpolate import interp1d\n",
    "#from scipy.integrate import trapz\n",
    "#from scipy.integrate import quad\n",
    "#from scipy.optimize import fsolve\n",
    "\n",
    "from utils.my_units import *"
   ]
  },
  {
   "cell_type": "code",
   "execution_count": 5,
   "metadata": {
    "execution": {
     "iopub.execute_input": "2023-09-28T17:48:38.276125Z",
     "iopub.status.busy": "2023-09-28T17:48:38.274948Z",
     "iopub.status.idle": "2023-09-28T17:48:38.526625Z",
     "shell.execute_reply": "2023-09-28T17:48:38.526263Z",
     "shell.execute_reply.started": "2023-09-28T17:48:38.276055Z"
    }
   },
   "outputs": [],
   "source": [
    "import matplotlib.pyplot as plt\n",
    "import matplotlib as mpl\n",
    "plt.rcdefaults()\n",
    "from matplotlib import font_manager\n",
    "from matplotlib import rcParams\n",
    "from matplotlib import rc\n",
    "from matplotlib import colors\n",
    "rcParams['mathtext.rm'] = 'Times New Roman' \n",
    "rcParams['text.usetex'] = True\n",
    "rcParams['font.family'] = 'times' #'sans-serif'\n",
    "font_manager.findfont('serif', rebuild_if_missing=True)\n",
    "fontsize = 14\n",
    "rcParams.update({'font.size':fontsize})"
   ]
  },
  {
   "cell_type": "code",
   "execution_count": 4,
   "metadata": {
    "execution": {
     "iopub.execute_input": "2023-09-28T17:47:11.215060Z",
     "iopub.status.busy": "2023-09-28T17:47:11.214406Z",
     "iopub.status.idle": "2023-09-28T17:47:11.598860Z",
     "shell.execute_reply": "2023-09-28T17:47:11.598519Z",
     "shell.execute_reply.started": "2023-09-28T17:47:11.215027Z"
    }
   },
   "outputs": [],
   "source": [
    "from superrad import ultralight_boson as ub"
   ]
  },
  {
   "cell_type": "markdown",
   "metadata": {},
   "source": [
    "# GW frequency"
   ]
  },
  {
   "cell_type": "code",
   "execution_count": null,
   "metadata": {},
   "outputs": [],
   "source": [
    "bc = ub.UltralightBoson(spin=1, model=\"relativistic\") "
   ]
  },
  {
   "cell_type": "code",
   "execution_count": 18,
   "metadata": {
    "execution": {
     "iopub.execute_input": "2023-09-28T17:57:36.814590Z",
     "iopub.status.busy": "2023-09-28T17:57:36.814204Z",
     "iopub.status.idle": "2023-09-28T17:57:36.822692Z",
     "shell.execute_reply": "2023-09-28T17:57:36.821599Z",
     "shell.execute_reply.started": "2023-09-28T17:57:36.814553Z"
    }
   },
   "outputs": [
    {
     "data": {
      "text/plain": [
       "19"
      ]
     },
     "execution_count": 18,
     "metadata": {},
     "output_type": "execute_result"
    }
   ],
   "source": [
    "int(len(df_duoblets)/2)"
   ]
  },
  {
   "cell_type": "code",
   "execution_count": 24,
   "metadata": {
    "execution": {
     "iopub.execute_input": "2023-09-28T17:59:06.638849Z",
     "iopub.status.busy": "2023-09-28T17:59:06.638517Z",
     "iopub.status.idle": "2023-09-28T17:59:06.658461Z",
     "shell.execute_reply": "2023-09-28T17:59:06.657517Z",
     "shell.execute_reply.started": "2023-09-28T17:59:06.638817Z"
    }
   },
   "outputs": [
    {
     "name": "stdout",
     "output_type": "stream",
     "text": [
      "0.11240799999998785\n",
      "0.0822430000000054\n",
      "0.0\n",
      "0.08451100000002043\n",
      "0.0\n",
      "0.14518400000000042\n",
      "0.10005099999997924\n",
      "0.14338300000002846\n",
      "0.09299599999997099\n",
      "0.0022840000000030614\n",
      "0.042258000000003904\n",
      "0.11934000000002243\n",
      "0.057952000000000226\n",
      "0.033742999999958556\n",
      "0.01106300000000715\n",
      "0.05068099999999731\n",
      "0.12327700000000164\n",
      "0.0\n",
      "0.10132899999999267\n"
     ]
    }
   ],
   "source": [
    "for i in range(int(len(df_duoblets))):\n",
    "    if i%2==0:\n",
    "        print(np.abs((df_duoblets.iloc[i]['F0'] - df_duoblets.iloc[i+1]['F0'])))"
   ]
  },
  {
   "cell_type": "markdown",
   "metadata": {},
   "source": [
    "### Frequency doubles"
   ]
  },
  {
   "cell_type": "code",
   "execution_count": 10,
   "metadata": {
    "execution": {
     "iopub.execute_input": "2023-09-28T17:54:06.773367Z",
     "iopub.status.busy": "2023-09-28T17:54:06.772784Z",
     "iopub.status.idle": "2023-09-28T17:54:06.786944Z",
     "shell.execute_reply": "2023-09-28T17:54:06.786038Z",
     "shell.execute_reply.started": "2023-09-28T17:54:06.773302Z"
    }
   },
   "outputs": [],
   "source": [
    "df_duoblets = pd.read_csv('data/pulsar_doublets.csv', index_col=0)"
   ]
  },
  {
   "cell_type": "code",
   "execution_count": 47,
   "metadata": {
    "execution": {
     "iopub.execute_input": "2023-09-28T20:05:03.560697Z",
     "iopub.status.busy": "2023-09-28T20:05:03.560355Z",
     "iopub.status.idle": "2023-09-28T20:05:08.007196Z",
     "shell.execute_reply": "2023-09-28T20:05:08.006865Z",
     "shell.execute_reply.started": "2023-09-28T20:05:03.560664Z"
    }
   },
   "outputs": [
    {
     "name": "stderr",
     "output_type": "stream",
     "text": [
      "100%|██████████| 38/38 [00:04<00:00,  8.58it/s]\n"
     ]
    }
   ],
   "source": [
    "### Determine the range of alpha allowed for each pulsar\n",
    "mbh_min, mbh_max = 3*MSolar, 100*MSolar\n",
    "abh0 = 0.5\n",
    "alpha_points_sol = 100\n",
    "t_cutoff = 1e3*Year\n",
    "alpha_points = 50\n",
    "\n",
    "mu_list = 2*np.pi*df_duoblets['F0'].to_numpy()*Hz\n",
    "alpha_list = np.nan+np.zeros((len(df_duoblets), alpha_points))\n",
    "\n",
    "for i in tqdm(range(len(df_duoblets))):\n",
    "    \n",
    "    mu = mu_list[i]\n",
    "    alpha_cutoff = 1.5*np.power(17*mu*0.1*t_cutoff, -1/10) ## take a factor of 1.5 greater than the estimated max alpha value\n",
    "    alpha_min = GN*mu*mbh_min\n",
    "    alpha_max = min(alpha_cutoff, GN*mu*mbh_max)\n",
    "    \n",
    "    if(alpha_max > alpha_min):\n",
    "        \n",
    "        alpha_list_temp = np.logspace(np.log10(alpha_min), np.log10(alpha_max), alpha_points_sol)\n",
    "        gw_time_list_temp = np.nan+np.zeros(alpha_points_sol)\n",
    "        \n",
    "        for i_a, alpha in enumerate(alpha_list_temp):\n",
    "\n",
    "            mbh = alpha/(mu*GN)/MSolar\n",
    "            try:\n",
    "                wf = bc.make_waveform(mbh, abh0, alpha, units=\"physical+alpha\")\n",
    "            except ValueError:\n",
    "                break \n",
    "\n",
    "            if wf.azimuthal_num()==1:\n",
    "                gw_time_list_temp[i_a] = wf.gw_time()*Second\n",
    "               \n",
    "        alpha_cutoff = 10**np.interp(0, np.flipud(np.log10(gw_time_list_temp/t_cutoff)), np.flipud(np.log10(alpha_list_temp)), left=np.nan, right=np.nan)\n",
    "        alpha_list[i] = np.logspace(np.log10(alpha_min), np.log10(alpha_cutoff), alpha_points) "
   ]
  },
  {
   "cell_type": "code",
   "execution_count": 48,
   "metadata": {
    "execution": {
     "iopub.execute_input": "2023-09-28T20:05:21.595627Z",
     "iopub.status.busy": "2023-09-28T20:05:21.594981Z",
     "iopub.status.idle": "2023-09-28T20:05:21.605771Z",
     "shell.execute_reply": "2023-09-28T20:05:21.604924Z",
     "shell.execute_reply.started": "2023-09-28T20:05:21.595586Z"
    }
   },
   "outputs": [
    {
     "data": {
      "text/plain": [
       "(array([0.01705474, 0.01706513, 0.03081223, 0.03081983, 0.01185086,\n",
       "        0.01185086, 0.02287822, 0.02288603, 0.02081908, 0.02081908,\n",
       "        0.01920352, 0.01921694, 0.01660172, 0.01661096, 0.02196837,\n",
       "        0.02198163, 0.02471569, 0.02472429, 0.02029592, 0.02029613,\n",
       "        0.00954534, 0.00954925, 0.01816045, 0.01817148, 0.0251416 ,\n",
       "        0.02514696, 0.02589263, 0.02589575, 0.01805404, 0.01805506,\n",
       "        0.03265846, 0.03266314, 0.0121308 , 0.0121422 , 0.03176519,\n",
       "        0.03176519, 0.01303762, 0.01304698]),\n",
       " array([0.03658609, 0.03658371, 0.03435448, 0.03435358, 0.03803633,\n",
       "        0.03803633, 0.03545903, 0.03545774, 0.0358168 , 0.0358168 ,\n",
       "        0.03612628, 0.03612359, 0.03669127, 0.03668909, 0.03561249,\n",
       "        0.03561021, 0.03516882, 0.03516751, 0.03591397, 0.03591393,\n",
       "        0.03892743, 0.03892573, 0.03634191, 0.03633956, 0.03510498,\n",
       "        0.03510419, 0.0349953 , 0.03499485, 0.03636464, 0.03636443,\n",
       "        0.0341429 , 0.03414238, 0.03794153, 0.03793772, 0.03424355,\n",
       "        0.03424355, 0.03765026, 0.03764738]))"
      ]
     },
     "execution_count": 48,
     "metadata": {},
     "output_type": "execute_result"
    }
   ],
   "source": [
    "np.min(alpha_list, axis=1), np.max(alpha_list, axis=1)"
   ]
  },
  {
   "cell_type": "code",
   "execution_count": 49,
   "metadata": {
    "execution": {
     "iopub.execute_input": "2023-09-28T20:07:32.150515Z",
     "iopub.status.busy": "2023-09-28T20:07:32.149391Z",
     "iopub.status.idle": "2023-09-28T20:07:32.181109Z",
     "shell.execute_reply": "2023-09-28T20:07:32.180487Z",
     "shell.execute_reply.started": "2023-09-28T20:07:32.150446Z"
    }
   },
   "outputs": [],
   "source": [
    "df_duoblets['min_alpha'] = np.min(alpha_list, axis=1)\n",
    "df_duoblets['max_alpha'] = np.max(alpha_list, axis=1)"
   ]
  },
  {
   "cell_type": "code",
   "execution_count": null,
   "metadata": {},
   "outputs": [],
   "source": []
  }
 ],
 "metadata": {
  "kernelspec": {
   "display_name": "Python 3",
   "language": "python",
   "name": "python3"
  },
  "language_info": {
   "codemirror_mode": {
    "name": "ipython",
    "version": 3
   },
   "file_extension": ".py",
   "mimetype": "text/x-python",
   "name": "python",
   "nbconvert_exporter": "python",
   "pygments_lexer": "ipython3",
   "version": "3.8.5"
  }
 },
 "nbformat": 4,
 "nbformat_minor": 4
}
